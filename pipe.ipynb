{
 "cells": [
  {
   "cell_type": "markdown",
   "source": [
    "## Computer Vision Algorithm for Tracking Planarian Motion\n",
    "developed by Hokin Deng xueqiandeng@yahoo.com"
   ],
   "metadata": {
    "collapsed": false
   }
  },
  {
   "cell_type": "markdown",
   "source": [
    "# Import Dependencies and Data"
   ],
   "metadata": {
    "collapsed": false
   }
  },
  {
   "cell_type": "markdown",
   "source": [
    "Import packages and make sure of the python technicality"
   ],
   "metadata": {
    "collapsed": false
   }
  },
  {
   "cell_type": "code",
   "execution_count": 2,
   "outputs": [
    {
     "name": "stdout",
     "output_type": "stream",
     "text": [
      "Python Version: 3.11.4 (main, Jul  5 2023, 08:41:25) [Clang 14.0.6 ]\n",
      "Python Executable: /Users/billdeng/anaconda3/envs/unlearning_Version1/bin/python\n",
      "Python Path: ['/Applications/PyCharm.app/Contents/plugins/python/helpers-pro/jupyter_debug', '/Applications/PyCharm.app/Contents/plugins/python/helpers/pydev', '/Users/billdeng/PycharmProjects/unicellular', '/Users/billdeng/PycharmProjects/unicellular', '/Users/billdeng/anaconda3/envs/unlearning_Version1/lib/python311.zip', '/Users/billdeng/anaconda3/envs/unlearning_Version1/lib/python3.11', '/Users/billdeng/anaconda3/envs/unlearning_Version1/lib/python3.11/lib-dynload', '', '/Users/billdeng/anaconda3/envs/unlearning_Version1/lib/python3.11/site-packages']\n"
     ]
    }
   ],
   "source": [
    "import sys\n",
    "import os\n",
    "print(\"Python Version:\", sys.version)\n",
    "print(\"Python Executable:\", sys.executable)\n",
    "print(\"Python Path:\", sys.path)"
   ],
   "metadata": {
    "collapsed": false
   }
  },
  {
   "cell_type": "code",
   "execution_count": 3,
   "outputs": [],
   "source": [
    "import cv2\n",
    "import math\n",
    "import copy\n",
    "import numpy as np\n",
    "from collections import deque\n",
    "import numpy as np\n",
    "import argparse\n",
    "import imutils"
   ],
   "metadata": {
    "collapsed": false
   }
  },
  {
   "cell_type": "markdown",
   "source": [
    "The video data should be named as \"sample.avi\" and put in the folder as the notebook."
   ],
   "metadata": {
    "collapsed": false
   }
  },
  {
   "cell_type": "code",
   "execution_count": 4,
   "metadata": {
    "collapsed": true
   },
   "outputs": [],
   "source": [
    "# Open a video file (replace 'sample.avi' with the path)\n",
    "cap = cv2.VideoCapture('sample.avi')\n",
    "\n",
    "# Check if the video file was opened successfully\n",
    "if not cap.isOpened():\n",
    "    print(\"Error: Could not open video file.\")\n",
    "    exit()"
   ]
  },
  {
   "cell_type": "markdown",
   "source": [
    "Display the video if want to have a look at it"
   ],
   "metadata": {
    "collapsed": false
   }
  },
  {
   "cell_type": "code",
   "execution_count": 5,
   "outputs": [],
   "source": [
    "#cv2.startWindowThread()\n",
    "# Loop to read and display frames\n",
    "#while True:\n",
    "    # Read a frame from the video\n",
    "#    ret, frame = cap.read()\n",
    "    # If the video has ended, break out of the loop\n",
    "#    if not ret:\n",
    "#        break\n",
    "    # Display the frame in a window\n",
    "#    cv2.imshow('Video', frame)\n",
    "    # Exit the loop if the 'q' key is pressed\n",
    "#    if cv2.waitKey(25) & 0xFF == ord('q'):\n",
    "#        break\n",
    "\n",
    "# Release the video capture object and close the window"
   ],
   "metadata": {
    "collapsed": false
   }
  },
  {
   "cell_type": "markdown",
   "source": [
    "## Processing"
   ],
   "metadata": {
    "collapsed": false
   }
  },
  {
   "cell_type": "markdown",
   "source": [
    "First, get basic properties about our video"
   ],
   "metadata": {
    "collapsed": false
   }
  },
  {
   "cell_type": "code",
   "execution_count": 6,
   "outputs": [
    {
     "name": "stdout",
     "output_type": "stream",
     "text": [
      "Frame Count: 1202\n",
      "Frame Width: 2160\n",
      "Frame Height: 2160\n",
      "Frame Rate: 10.0 frames per second\n",
      "Video Duration: 120.20 seconds\n"
     ]
    }
   ],
   "source": [
    "# Get basic video properties\n",
    "frame_count = int(cap.get(cv2.CAP_PROP_FRAME_COUNT))\n",
    "frame_width = int(cap.get(cv2.CAP_PROP_FRAME_WIDTH))\n",
    "frame_height = int(cap.get(cv2.CAP_PROP_FRAME_HEIGHT))\n",
    "frame_rate = cap.get(cv2.CAP_PROP_FPS)\n",
    "video_duration_sec = frame_count / frame_rate if frame_rate > 0 else 0\n",
    "\n",
    "# Print the video properties\n",
    "print(f\"Frame Count: {frame_count}\")\n",
    "print(f\"Frame Width: {frame_width}\")\n",
    "print(f\"Frame Height: {frame_height}\")\n",
    "print(f\"Frame Rate: {frame_rate} frames per second\")\n",
    "print(f\"Video Duration: {video_duration_sec:.2f} seconds\")"
   ],
   "metadata": {
    "collapsed": false
   }
  },
  {
   "cell_type": "code",
   "execution_count": 7,
   "outputs": [
    {
     "name": "stdout",
     "output_type": "stream",
     "text": [
      "ret <class 'bool'>\n",
      "frame <class 'numpy.ndarray'>\n",
      "ret True\n",
      "frame [[[255 255 255]\n",
      "  [255 255 255]\n",
      "  [255 255 255]\n",
      "  ...\n",
      "  [255 255 255]\n",
      "  [255 255 255]\n",
      "  [255 255 255]]\n",
      "\n",
      " [[255 255 255]\n",
      "  [255 255 255]\n",
      "  [255 255 255]\n",
      "  ...\n",
      "  [255 255 255]\n",
      "  [255 255 255]\n",
      "  [255 255 255]]\n",
      "\n",
      " [[255 255 255]\n",
      "  [255 255 255]\n",
      "  [255 255 255]\n",
      "  ...\n",
      "  [255 255 255]\n",
      "  [255 255 255]\n",
      "  [255 255 255]]\n",
      "\n",
      " ...\n",
      "\n",
      " [[255 255 255]\n",
      "  [255 255 255]\n",
      "  [255 255 255]\n",
      "  ...\n",
      "  [255 255 255]\n",
      "  [255 255 255]\n",
      "  [255 255 255]]\n",
      "\n",
      " [[255 255 255]\n",
      "  [255 255 255]\n",
      "  [255 255 255]\n",
      "  ...\n",
      "  [255 255 255]\n",
      "  [255 255 255]\n",
      "  [255 255 255]]\n",
      "\n",
      " [[255 255 255]\n",
      "  [255 255 255]\n",
      "  [255 255 255]\n",
      "  ...\n",
      "  [255 255 255]\n",
      "  [255 255 255]\n",
      "  [255 255 255]]]\n"
     ]
    }
   ],
   "source": [
    "example_ret, example_frame = cap.read()\n",
    "print( 'ret', type(example_ret))\n",
    "print( 'frame', type(example_frame))\n",
    "print('ret', example_ret)\n",
    "print('frame', example_frame)"
   ],
   "metadata": {
    "collapsed": false
   }
  },
  {
   "cell_type": "code",
   "execution_count": 8,
   "outputs": [],
   "source": [
    "# frame_number = 100  # The frame you want to access\n",
    "# Set the video position to the desired frame\n",
    "# cap.set(cv2.CAP_PROP_POS_FRAMES, frame_number - 1)\n",
    "# Read the frame\n",
    "# ret, frame = cap.read()\n",
    "# if ret:\n",
    "    # Process the frame\n",
    "#     cv2.imshow('Frame 100', frame)\n",
    "#    cv2.waitKey(0)  # Wait for a key press to close the image window\n",
    "# else:\n",
    "#    print(\"Error: Unable to read the frame\")"
   ],
   "metadata": {
    "collapsed": false
   }
  },
  {
   "cell_type": "markdown",
   "source": [
    "Inspect function for a frame"
   ],
   "metadata": {
    "collapsed": false
   }
  },
  {
   "cell_type": "markdown",
   "source": [],
   "metadata": {
    "collapsed": false
   }
  },
  {
   "cell_type": "code",
   "execution_count": 9,
   "outputs": [],
   "source": [
    "def inspect_frame_from_video(cap_for_here, frame_number):\n",
    "    \"\"\"\n",
    "    Inspects a specific frame in a video.\n",
    "\n",
    "    :param cap_for_here: video reference\n",
    "    :param frame_number: The frame number to inspect (1-based index).\n",
    "    :return: None\n",
    "    \"\"\"\n",
    "    # Open the video file\n",
    "    if not cap_for_here.isOpened():\n",
    "        print(\"Error: Unable to open video file\")\n",
    "        return\n",
    "    # Check if the frame number is valid\n",
    "    total_frames = cap_for_here.get(cv2.CAP_PROP_FRAME_COUNT)\n",
    "    if frame_number < 1 or frame_number > total_frames:\n",
    "        print(f\"Frame number should be between 1 and {int(total_frames)}\")\n",
    "        return\n",
    "    # Set the video position to the desired frame (0-based index for frame_number)\n",
    "    cap_for_here.set(cv2.CAP_PROP_POS_FRAMES, frame_number - 1)\n",
    "    # Read the frame\n",
    "    ret_temp, frame_temp = cap_for_here.read()\n",
    "    if ret_temp:\n",
    "        # Display the frame\n",
    "        # cv2.imshow(f'Frame {frame_number}', frame)\n",
    "        # cv2.waitKey(0)  # Wait for a key press to close the image window\n",
    "        # cv2.destroyAllWindows()\n",
    "        frame_h, frame_w = frame_temp.shape[:2]\n",
    "        print(f\"Frame Width: {frame_h}\")\n",
    "        print(f\"Frame Height: {frame_w}\")\n",
    "        # Color Channels\n",
    "        channels = frame_temp.shape[2] if len(frame_temp.shape) == 3 else 1\n",
    "        print(f\"Color Channels: {channels}\")\n",
    "        # Data Type\n",
    "        data_type = frame_temp.dtype\n",
    "        print(f\"Data Type: {data_type}\")\n",
    "        # Aspect Ratio\n",
    "        aspect_ratio = frame_w / frame_h\n",
    "        print(f\"Aspect Ratio: {aspect_ratio}\")\n",
    "        # Resolution (assuming a standard display resolution of 96 PPI)\n",
    "        # Color Space (assuming default BGR)\n",
    "        color_space = \"BGR\" if channels == 3 else \"Grayscale\"\n",
    "        print(f\"Color Space: {color_space}\")\n",
    "        # Histogram for each channel\n",
    "        if channels > 1:\n",
    "            for i, col in enumerate(['Blue', 'Green', 'Red']):\n",
    "                hist = cv2.calcHist([frame_temp], [i], None, [256], [0, 256])\n",
    "                print(f\"Histogram for {col} channel: {np.array(hist).flatten()}\")\n",
    "        else:\n",
    "            hist = cv2.calcHist([frame_temp], [0], None, [256], [0, 256])\n",
    "            print(f\"Histogram for Grayscale: {np.array(hist).flatten()}\")\n",
    "    else:\n",
    "        print(\"Error: Unable to read the frame\")"
   ],
   "metadata": {
    "collapsed": false
   }
  },
  {
   "cell_type": "code",
   "execution_count": 10,
   "outputs": [],
   "source": [
    "def inspect_given_a_frame(this_frame):\n",
    "    frame_h, frame_w = this_frame.shape[:2]\n",
    "    print(f\"Frame Width: {frame_h}\")\n",
    "    print(f\"Frame Height: {frame_w}\")\n",
    "    channels = this_frame.shape[2] if len(this_frame.shape) == 3 else 1\n",
    "    print(f\"Color Channels: {channels}\")\n",
    "    data_type = this_frame.dtype\n",
    "    print(f\"Data Type: {data_type}\")\n",
    "    aspect_ratio = frame_w / frame_h\n",
    "    print(f\"Aspect Ratio: {aspect_ratio}\")\n",
    "    color_space = \"BGR\" if channels == 3 else \"Grayscale\"\n",
    "    print(f\"Color Space: {color_space}\")"
   ],
   "metadata": {
    "collapsed": false
   }
  },
  {
   "cell_type": "code",
   "execution_count": 11,
   "outputs": [
    {
     "name": "stdout",
     "output_type": "stream",
     "text": [
      "Frame Width: 2160\n",
      "Frame Height: 2160\n",
      "Color Channels: 3\n",
      "Data Type: uint8\n",
      "Aspect Ratio: 1.0\n",
      "Color Space: BGR\n",
      "Histogram for Blue channel: [0.000000e+00 0.000000e+00 0.000000e+00 0.000000e+00 0.000000e+00\n",
      " 0.000000e+00 0.000000e+00 0.000000e+00 0.000000e+00 0.000000e+00\n",
      " 0.000000e+00 0.000000e+00 0.000000e+00 0.000000e+00 0.000000e+00\n",
      " 0.000000e+00 0.000000e+00 0.000000e+00 0.000000e+00 0.000000e+00\n",
      " 0.000000e+00 0.000000e+00 0.000000e+00 0.000000e+00 0.000000e+00\n",
      " 0.000000e+00 0.000000e+00 4.000000e+00 1.000000e+01 3.000000e+01\n",
      " 8.700000e+01 2.260000e+02 2.210000e+02 3.280000e+02 2.530000e+02\n",
      " 2.220000e+02 2.660000e+02 3.060000e+02 3.730000e+02 3.690000e+02\n",
      " 4.090000e+02 4.690000e+02 4.750000e+02 5.660000e+02 6.110000e+02\n",
      " 8.480000e+02 1.009000e+03 8.500000e+02 9.110000e+02 8.800000e+02\n",
      " 8.680000e+02 9.620000e+02 9.770000e+02 9.740000e+02 9.730000e+02\n",
      " 1.063000e+03 1.188000e+03 1.234000e+03 1.331000e+03 1.451000e+03\n",
      " 1.457000e+03 1.428000e+03 1.485000e+03 1.477000e+03 1.456000e+03\n",
      " 1.477000e+03 1.443000e+03 1.572000e+03 1.551000e+03 1.555000e+03\n",
      " 1.636000e+03 1.707000e+03 1.698000e+03 1.583000e+03 1.561000e+03\n",
      " 1.700000e+03 1.576000e+03 1.728000e+03 1.714000e+03 1.834000e+03\n",
      " 1.894000e+03 1.987000e+03 1.889000e+03 1.887000e+03 1.906000e+03\n",
      " 1.830000e+03 1.857000e+03 1.828000e+03 1.832000e+03 1.759000e+03\n",
      " 1.725000e+03 1.826000e+03 1.865000e+03 1.907000e+03 2.020000e+03\n",
      " 2.038000e+03 2.165000e+03 2.210000e+03 2.318000e+03 2.345000e+03\n",
      " 2.401000e+03 2.636000e+03 2.617000e+03 2.715000e+03 2.768000e+03\n",
      " 2.835000e+03 2.833000e+03 2.857000e+03 2.911000e+03 3.056000e+03\n",
      " 2.952000e+03 3.023000e+03 2.979000e+03 3.089000e+03 3.116000e+03\n",
      " 3.152000e+03 3.051000e+03 3.086000e+03 3.090000e+03 3.104000e+03\n",
      " 3.109000e+03 3.140000e+03 3.183000e+03 3.074000e+03 3.179000e+03\n",
      " 3.253000e+03 3.289000e+03 3.264000e+03 3.274000e+03 3.360000e+03\n",
      " 3.261000e+03 3.273000e+03 3.174000e+03 3.222000e+03 3.327000e+03\n",
      " 3.233000e+03 3.238000e+03 3.250000e+03 3.277000e+03 3.205000e+03\n",
      " 3.359000e+03 3.402000e+03 3.399000e+03 3.398000e+03 3.527000e+03\n",
      " 3.406000e+03 3.282000e+03 3.304000e+03 3.425000e+03 3.329000e+03\n",
      " 3.346000e+03 3.266000e+03 3.412000e+03 3.307000e+03 3.346000e+03\n",
      " 3.347000e+03 3.273000e+03 3.232000e+03 3.311000e+03 3.347000e+03\n",
      " 3.354000e+03 3.361000e+03 3.239000e+03 3.369000e+03 3.300000e+03\n",
      " 3.334000e+03 3.398000e+03 3.381000e+03 3.447000e+03 3.419000e+03\n",
      " 3.465000e+03 3.527000e+03 3.461000e+03 3.479000e+03 3.563000e+03\n",
      " 3.605000e+03 3.741000e+03 3.605000e+03 3.615000e+03 3.476000e+03\n",
      " 3.339000e+03 3.376000e+03 3.426000e+03 3.333000e+03 3.480000e+03\n",
      " 3.445000e+03 3.466000e+03 3.544000e+03 3.532000e+03 3.652000e+03\n",
      " 3.651000e+03 3.764000e+03 3.883000e+03 4.045000e+03 4.313000e+03\n",
      " 4.621000e+03 4.856000e+03 5.330000e+03 5.612000e+03 5.936000e+03\n",
      " 6.236000e+03 6.422000e+03 6.459000e+03 6.266000e+03 6.165000e+03\n",
      " 6.226000e+03 6.134000e+03 6.049000e+03 5.957000e+03 6.076000e+03\n",
      " 5.904000e+03 6.067000e+03 5.699000e+03 5.779000e+03 5.503000e+03\n",
      " 5.408000e+03 5.514000e+03 5.502000e+03 5.237000e+03 5.252000e+03\n",
      " 5.244000e+03 5.350000e+03 5.522000e+03 5.502000e+03 5.522000e+03\n",
      " 5.763000e+03 5.773000e+03 5.823000e+03 5.819000e+03 5.883000e+03\n",
      " 5.640000e+03 5.785000e+03 5.877000e+03 5.961000e+03 5.960000e+03\n",
      " 6.170000e+03 6.329000e+03 6.331000e+03 6.774000e+03 7.118000e+03\n",
      " 7.557000e+03 7.924000e+03 8.176000e+03 8.439000e+03 8.898000e+03\n",
      " 9.220000e+03 9.365000e+03 9.771000e+03 9.983000e+03 1.059300e+04\n",
      " 1.184900e+04 1.421500e+04 1.911200e+04 3.107300e+04 5.732600e+04\n",
      " 3.775011e+06]\n",
      "Histogram for Green channel: [0.000000e+00 0.000000e+00 0.000000e+00 0.000000e+00 0.000000e+00\n",
      " 0.000000e+00 0.000000e+00 0.000000e+00 0.000000e+00 0.000000e+00\n",
      " 0.000000e+00 0.000000e+00 0.000000e+00 0.000000e+00 0.000000e+00\n",
      " 0.000000e+00 0.000000e+00 0.000000e+00 0.000000e+00 0.000000e+00\n",
      " 0.000000e+00 0.000000e+00 0.000000e+00 0.000000e+00 0.000000e+00\n",
      " 0.000000e+00 0.000000e+00 4.000000e+00 1.000000e+01 3.000000e+01\n",
      " 8.700000e+01 2.260000e+02 2.210000e+02 3.280000e+02 2.530000e+02\n",
      " 2.220000e+02 2.660000e+02 3.060000e+02 3.730000e+02 3.690000e+02\n",
      " 4.090000e+02 4.690000e+02 4.750000e+02 5.660000e+02 6.110000e+02\n",
      " 8.480000e+02 1.009000e+03 8.500000e+02 9.110000e+02 8.800000e+02\n",
      " 8.680000e+02 9.620000e+02 9.770000e+02 9.740000e+02 9.730000e+02\n",
      " 1.063000e+03 1.188000e+03 1.234000e+03 1.331000e+03 1.451000e+03\n",
      " 1.457000e+03 1.428000e+03 1.485000e+03 1.477000e+03 1.456000e+03\n",
      " 1.477000e+03 1.443000e+03 1.572000e+03 1.551000e+03 1.555000e+03\n",
      " 1.636000e+03 1.707000e+03 1.698000e+03 1.583000e+03 1.561000e+03\n",
      " 1.700000e+03 1.576000e+03 1.728000e+03 1.714000e+03 1.834000e+03\n",
      " 1.894000e+03 1.987000e+03 1.889000e+03 1.887000e+03 1.906000e+03\n",
      " 1.830000e+03 1.857000e+03 1.828000e+03 1.832000e+03 1.759000e+03\n",
      " 1.725000e+03 1.826000e+03 1.865000e+03 1.907000e+03 2.020000e+03\n",
      " 2.038000e+03 2.165000e+03 2.210000e+03 2.318000e+03 2.345000e+03\n",
      " 2.401000e+03 2.636000e+03 2.617000e+03 2.715000e+03 2.768000e+03\n",
      " 2.835000e+03 2.833000e+03 2.857000e+03 2.911000e+03 3.056000e+03\n",
      " 2.952000e+03 3.023000e+03 2.979000e+03 3.089000e+03 3.116000e+03\n",
      " 3.152000e+03 3.051000e+03 3.086000e+03 3.090000e+03 3.104000e+03\n",
      " 3.109000e+03 3.140000e+03 3.183000e+03 3.074000e+03 3.179000e+03\n",
      " 3.253000e+03 3.289000e+03 3.264000e+03 3.274000e+03 3.360000e+03\n",
      " 3.261000e+03 3.273000e+03 3.174000e+03 3.222000e+03 3.327000e+03\n",
      " 3.233000e+03 3.238000e+03 3.250000e+03 3.277000e+03 3.205000e+03\n",
      " 3.359000e+03 3.402000e+03 3.399000e+03 3.398000e+03 3.527000e+03\n",
      " 3.406000e+03 3.282000e+03 3.304000e+03 3.425000e+03 3.329000e+03\n",
      " 3.346000e+03 3.266000e+03 3.412000e+03 3.307000e+03 3.346000e+03\n",
      " 3.347000e+03 3.273000e+03 3.232000e+03 3.311000e+03 3.347000e+03\n",
      " 3.354000e+03 3.361000e+03 3.239000e+03 3.369000e+03 3.300000e+03\n",
      " 3.334000e+03 3.398000e+03 3.381000e+03 3.447000e+03 3.419000e+03\n",
      " 3.465000e+03 3.527000e+03 3.461000e+03 3.479000e+03 3.563000e+03\n",
      " 3.605000e+03 3.741000e+03 3.605000e+03 3.615000e+03 3.476000e+03\n",
      " 3.339000e+03 3.376000e+03 3.426000e+03 3.333000e+03 3.480000e+03\n",
      " 3.445000e+03 3.466000e+03 3.544000e+03 3.532000e+03 3.652000e+03\n",
      " 3.651000e+03 3.764000e+03 3.883000e+03 4.045000e+03 4.313000e+03\n",
      " 4.621000e+03 4.856000e+03 5.330000e+03 5.612000e+03 5.936000e+03\n",
      " 6.236000e+03 6.422000e+03 6.459000e+03 6.266000e+03 6.165000e+03\n",
      " 6.226000e+03 6.134000e+03 6.049000e+03 5.957000e+03 6.076000e+03\n",
      " 5.904000e+03 6.067000e+03 5.699000e+03 5.779000e+03 5.503000e+03\n",
      " 5.408000e+03 5.514000e+03 5.502000e+03 5.237000e+03 5.252000e+03\n",
      " 5.244000e+03 5.350000e+03 5.522000e+03 5.502000e+03 5.522000e+03\n",
      " 5.763000e+03 5.773000e+03 5.823000e+03 5.819000e+03 5.883000e+03\n",
      " 5.640000e+03 5.785000e+03 5.877000e+03 5.961000e+03 5.960000e+03\n",
      " 6.170000e+03 6.329000e+03 6.331000e+03 6.774000e+03 7.118000e+03\n",
      " 7.557000e+03 7.924000e+03 8.176000e+03 8.439000e+03 8.898000e+03\n",
      " 9.220000e+03 9.365000e+03 9.771000e+03 9.983000e+03 1.059300e+04\n",
      " 1.184900e+04 1.421500e+04 1.911200e+04 3.107300e+04 5.732600e+04\n",
      " 3.775011e+06]\n",
      "Histogram for Red channel: [0.000000e+00 0.000000e+00 0.000000e+00 0.000000e+00 0.000000e+00\n",
      " 0.000000e+00 0.000000e+00 0.000000e+00 0.000000e+00 0.000000e+00\n",
      " 0.000000e+00 0.000000e+00 0.000000e+00 0.000000e+00 0.000000e+00\n",
      " 0.000000e+00 0.000000e+00 0.000000e+00 0.000000e+00 0.000000e+00\n",
      " 0.000000e+00 0.000000e+00 0.000000e+00 0.000000e+00 0.000000e+00\n",
      " 0.000000e+00 0.000000e+00 4.000000e+00 1.000000e+01 3.000000e+01\n",
      " 8.700000e+01 2.260000e+02 2.210000e+02 3.280000e+02 2.530000e+02\n",
      " 2.220000e+02 2.660000e+02 3.060000e+02 3.730000e+02 3.690000e+02\n",
      " 4.090000e+02 4.690000e+02 4.750000e+02 5.660000e+02 6.110000e+02\n",
      " 8.480000e+02 1.009000e+03 8.500000e+02 9.110000e+02 8.800000e+02\n",
      " 8.680000e+02 9.620000e+02 9.770000e+02 9.740000e+02 9.730000e+02\n",
      " 1.063000e+03 1.188000e+03 1.234000e+03 1.331000e+03 1.451000e+03\n",
      " 1.457000e+03 1.428000e+03 1.485000e+03 1.477000e+03 1.456000e+03\n",
      " 1.477000e+03 1.443000e+03 1.572000e+03 1.551000e+03 1.555000e+03\n",
      " 1.636000e+03 1.707000e+03 1.698000e+03 1.583000e+03 1.561000e+03\n",
      " 1.700000e+03 1.576000e+03 1.728000e+03 1.714000e+03 1.834000e+03\n",
      " 1.894000e+03 1.987000e+03 1.889000e+03 1.887000e+03 1.906000e+03\n",
      " 1.830000e+03 1.857000e+03 1.828000e+03 1.832000e+03 1.759000e+03\n",
      " 1.725000e+03 1.826000e+03 1.865000e+03 1.907000e+03 2.020000e+03\n",
      " 2.038000e+03 2.165000e+03 2.210000e+03 2.318000e+03 2.345000e+03\n",
      " 2.401000e+03 2.636000e+03 2.617000e+03 2.715000e+03 2.768000e+03\n",
      " 2.835000e+03 2.833000e+03 2.857000e+03 2.911000e+03 3.056000e+03\n",
      " 2.952000e+03 3.023000e+03 2.979000e+03 3.089000e+03 3.116000e+03\n",
      " 3.152000e+03 3.051000e+03 3.086000e+03 3.090000e+03 3.104000e+03\n",
      " 3.109000e+03 3.140000e+03 3.183000e+03 3.074000e+03 3.179000e+03\n",
      " 3.253000e+03 3.289000e+03 3.264000e+03 3.274000e+03 3.360000e+03\n",
      " 3.261000e+03 3.273000e+03 3.174000e+03 3.222000e+03 3.327000e+03\n",
      " 3.233000e+03 3.238000e+03 3.250000e+03 3.277000e+03 3.205000e+03\n",
      " 3.359000e+03 3.402000e+03 3.399000e+03 3.398000e+03 3.527000e+03\n",
      " 3.406000e+03 3.282000e+03 3.304000e+03 3.425000e+03 3.329000e+03\n",
      " 3.346000e+03 3.266000e+03 3.412000e+03 3.307000e+03 3.346000e+03\n",
      " 3.347000e+03 3.273000e+03 3.232000e+03 3.311000e+03 3.347000e+03\n",
      " 3.354000e+03 3.361000e+03 3.239000e+03 3.369000e+03 3.300000e+03\n",
      " 3.334000e+03 3.398000e+03 3.381000e+03 3.447000e+03 3.419000e+03\n",
      " 3.465000e+03 3.527000e+03 3.461000e+03 3.479000e+03 3.563000e+03\n",
      " 3.605000e+03 3.741000e+03 3.605000e+03 3.615000e+03 3.476000e+03\n",
      " 3.339000e+03 3.376000e+03 3.426000e+03 3.333000e+03 3.480000e+03\n",
      " 3.445000e+03 3.466000e+03 3.544000e+03 3.532000e+03 3.652000e+03\n",
      " 3.651000e+03 3.764000e+03 3.883000e+03 4.045000e+03 4.313000e+03\n",
      " 4.621000e+03 4.856000e+03 5.330000e+03 5.612000e+03 5.936000e+03\n",
      " 6.236000e+03 6.422000e+03 6.459000e+03 6.266000e+03 6.165000e+03\n",
      " 6.226000e+03 6.134000e+03 6.049000e+03 5.957000e+03 6.076000e+03\n",
      " 5.904000e+03 6.067000e+03 5.699000e+03 5.779000e+03 5.503000e+03\n",
      " 5.408000e+03 5.514000e+03 5.502000e+03 5.237000e+03 5.252000e+03\n",
      " 5.244000e+03 5.350000e+03 5.522000e+03 5.502000e+03 5.522000e+03\n",
      " 5.763000e+03 5.773000e+03 5.823000e+03 5.819000e+03 5.883000e+03\n",
      " 5.640000e+03 5.785000e+03 5.877000e+03 5.961000e+03 5.960000e+03\n",
      " 6.170000e+03 6.329000e+03 6.331000e+03 6.774000e+03 7.118000e+03\n",
      " 7.557000e+03 7.924000e+03 8.176000e+03 8.439000e+03 8.898000e+03\n",
      " 9.220000e+03 9.365000e+03 9.771000e+03 9.983000e+03 1.059300e+04\n",
      " 1.184900e+04 1.421500e+04 1.911200e+04 3.107300e+04 5.732600e+04\n",
      " 3.775011e+06]\n"
     ]
    }
   ],
   "source": [
    "# Usage example\n",
    "video_file = 'sample.avi'\n",
    "frame_to_inspect = 100  # Adjust the frame number as needed\n",
    "inspect_frame_from_video(cap, frame_to_inspect)"
   ],
   "metadata": {
    "collapsed": false
   }
  },
  {
   "cell_type": "code",
   "execution_count": 12,
   "outputs": [
    {
     "name": "stdout",
     "output_type": "stream",
     "text": [
      "Frame Width: 2160\n",
      "Frame Height: 2160\n",
      "Color Channels: 3\n",
      "Data Type: uint8\n",
      "Aspect Ratio: 1.0\n",
      "Color Space: BGR\n"
     ]
    }
   ],
   "source": [
    "ret, frame_for_use = cap.read()\n",
    "inspect_given_a_frame(frame_for_use)\n",
    "cap.release()\n",
    "cv2.destroyAllWindows()"
   ],
   "metadata": {
    "collapsed": false
   }
  },
  {
   "cell_type": "markdown",
   "source": [
    "Background subtraction"
   ],
   "metadata": {
    "collapsed": false
   }
  },
  {
   "cell_type": "code",
   "execution_count": 18,
   "outputs": [
    {
     "name": "stdout",
     "output_type": "stream",
     "text": [
      "Progress: 1202"
     ]
    }
   ],
   "source": [
    "i = 0\n",
    "# Initialize video capture\n",
    "cap = cv2.VideoCapture('sample.avi')\n",
    "# Get video properties\n",
    "frame_width = int(cap.get(cv2.CAP_PROP_FRAME_WIDTH))\n",
    "frame_height = int(cap.get(cv2.CAP_PROP_FRAME_HEIGHT))\n",
    "frame_rate = int(cap.get(cv2.CAP_PROP_FPS))\n",
    "# Define codec and create VideoWriter object\n",
    "fourcc = cv2.VideoWriter_fourcc(*'XVID')\n",
    "out = cv2.VideoWriter('background_remove.avi', fourcc, frame_rate, (frame_width, frame_height), False)\n",
    "backSub = cv2.createBackgroundSubtractorMOG2()\n",
    "while True:\n",
    "    i += 1\n",
    "    ret, frame = cap.read()\n",
    "    if not ret:\n",
    "        break\n",
    "    fgMask = backSub.apply(frame)\n",
    "    out.write(fgMask)\n",
    "    print(f'\\rProgress: {i}', end='')\n",
    "    if cv2.waitKey(1) & 0xFF == ord('q'):\n",
    "        break\n",
    "cap.release()\n",
    "out.release()\n",
    "cv2.destroyAllWindows()"
   ],
   "metadata": {
    "collapsed": false
   }
  },
  {
   "cell_type": "markdown",
   "source": [
    "Spatial Smoothing"
   ],
   "metadata": {
    "collapsed": false
   }
  },
  {
   "cell_type": "code",
   "execution_count": 21,
   "outputs": [
    {
     "name": "stdout",
     "output_type": "stream",
     "text": [
      "Progress: 1202"
     ]
    }
   ],
   "source": [
    "i = 0\n",
    "cap = cv2.VideoCapture('background_remove.avi')\n",
    "frame_width = int(cap.get(cv2.CAP_PROP_FRAME_WIDTH))\n",
    "frame_height = int(cap.get(cv2.CAP_PROP_FRAME_HEIGHT))\n",
    "frame_rate = int(cap.get(cv2.CAP_PROP_FPS))\n",
    "fourcc = cv2.VideoWriter_fourcc(*'XVID')\n",
    "out = cv2.VideoWriter('background_remove_spatial_smoothed.avi', fourcc, frame_rate, (frame_width, frame_height), False)\n",
    "while True:\n",
    "    i += 1\n",
    "    ret, frame = cap.read()\n",
    "    if not ret:\n",
    "        break\n",
    "    blurred_frame = cv2.GaussianBlur(frame, (5, 5), 0)\n",
    "    out.write(blurred_frame)\n",
    "    print(f'\\rProgress: {i}', end='')\n",
    "    if cv2.waitKey(1) & 0xFF == ord('q'):\n",
    "        break\n",
    "cap.release()\n",
    "out.release()\n",
    "cv2.destroyAllWindows()"
   ],
   "metadata": {
    "collapsed": false
   }
  },
  {
   "cell_type": "markdown",
   "source": [
    "Temporal Smoothing"
   ],
   "metadata": {
    "collapsed": false
   }
  },
  {
   "cell_type": "code",
   "execution_count": 25,
   "outputs": [
    {
     "name": "stderr",
     "output_type": "stream",
     "text": [
      "OpenCV: Couldn't read video stream from file \"background_remove_spatial_smooth.avi\"\n",
      "[ERROR:0@834.234] global cap.cpp:166 open VIDEOIO(CV_IMAGES): raised OpenCV exception:\n",
      "\n",
      "OpenCV(4.8.1) /Users/runner/work/opencv-python/opencv-python/opencv/modules/videoio/src/cap_images.cpp:253: error: (-5:Bad argument) CAP_IMAGES: can't find starting number (in the name of file): background_remove_spatial_smooth.avi in function 'icvExtractPattern'\n",
      "\n",
      "\n"
     ]
    }
   ],
   "source": [
    "cap = cv2.VideoCapture('background_remove_spatial_smooth.avi')\n",
    "fourcc = cv2.VideoWriter_fourcc(*'XVID') # You can also use 'XVID'\n",
    "out = cv2.VideoWriter('b_r_s_s_t_s.avi', fourcc, frame_rate, (frame_width, frame_height), False)\n",
    "buffer_size = 5\n",
    "frame_buffer = []\n",
    "while True:\n",
    "    ret, frame = cap.read()\n",
    "    if not ret:\n",
    "        break\n",
    "    frame_buffer.append(frame)\n",
    "    if len(frame_buffer) > buffer_size:\n",
    "        frame_buffer.pop(0)\n",
    "    # Temporal smoothing (average of frames in buffer)\n",
    "    temp_smoothed = np.mean(frame_buffer, axis=0).astype(np.uint8)\n",
    "    # Write frame to video\n",
    "    out.write(temp_smoothed)\n",
    "    # Break the loop\n",
    "    if cv2.waitKey(1) & 0xFF == ord('q'):\n",
    "        break\n",
    "cap.release()\n",
    "out.release()\n",
    "cv2.destroyAllWindows()"
   ],
   "metadata": {
    "collapsed": false
   }
  },
  {
   "cell_type": "markdown",
   "source": [
    "do everything all at once"
   ],
   "metadata": {
    "collapsed": false
   }
  },
  {
   "cell_type": "code",
   "execution_count": 27,
   "outputs": [],
   "source": [
    "# Initialize video capture\n",
    "cap = cv2.VideoCapture('sample.avi')\n",
    "# Get video properties\n",
    "frame_width = int(cap.get(cv2.CAP_PROP_FRAME_WIDTH))\n",
    "frame_height = int(cap.get(cv2.CAP_PROP_FRAME_HEIGHT))\n",
    "frame_rate = int(cap.get(cv2.CAP_PROP_FPS))\n",
    "# Define codec and create VideoWriter object\n",
    "fourcc = cv2.VideoWriter_fourcc(*'mp4v') # You can also use 'XVID'\n",
    "out = cv2.VideoWriter('pre_dense.mp4', fourcc, frame_rate, (frame_width, frame_height), False)\n",
    "# Background subtractor\n",
    "backSub = cv2.createBackgroundSubtractorMOG2()\n",
    "# Buffer for temporal smoothing\n",
    "buffer_size = 5\n",
    "frame_buffer = []\n",
    "while True:\n",
    "    ret, frame = cap.read()\n",
    "    if not ret:\n",
    "        break\n",
    "    # Background subtraction\n",
    "    fgMask = backSub.apply(frame)\n",
    "    # Spatial smoothing (Gaussian blur)\n",
    "    blurred = cv2.GaussianBlur(fgMask, (5, 5), 0)\n",
    "    # Add frame to buffer for temporal smoothing\n",
    "    frame_buffer.append(blurred)\n",
    "    if len(frame_buffer) > buffer_size:\n",
    "        frame_buffer.pop(0)\n",
    "    # Temporal smoothing (average of frames in buffer)\n",
    "    temp_smoothed = np.mean(frame_buffer, axis=0).astype(np.uint8)\n",
    "    # Write frame to video\n",
    "    out.write(temp_smoothed)\n",
    "    # Display result\n",
    "    # cv2.imshow('Frame', frame)\n",
    "    # cv2.imshow('FG Mask', fgMask)\n",
    "    # cv2.imshow('Blurred', blurred)\n",
    "    # cv2.imshow('Temporally Smoothed', temp_smoothed)\n",
    "    # Break the loop\n",
    "    if cv2.waitKey(1) & 0xFF == ord('q'):\n",
    "        break\n",
    "# Release everything\n",
    "cap.release()\n",
    "out.release()\n",
    "cv2.destroyAllWindows()"
   ],
   "metadata": {
    "collapsed": false
   }
  },
  {
   "cell_type": "markdown",
   "source": [
    "dense opti flow\n",
    "this takes a very very long time"
   ],
   "metadata": {
    "collapsed": false
   }
  },
  {
   "cell_type": "code",
   "execution_count": 29,
   "outputs": [
    {
     "name": "stdout",
     "output_type": "stream",
     "text": [
      "Progress: 1201"
     ]
    }
   ],
   "source": [
    "cap = cv2.VideoCapture(\"pre_dense.mp4\")\n",
    "first_ret, first_frame = cap.read()\n",
    "fourcc = cv2.VideoWriter_fourcc(*'mp4v')\n",
    "out = cv2.VideoWriter('dense_opti_flow.mp4', fourcc, frame_rate, (frame_width, frame_height), False)\n",
    "prev_gray = cv2.cvtColor(first_frame, cv2.COLOR_BGR2GRAY)\n",
    "mask = np.zeros_like(first_frame)\n",
    "mask[..., 1] = 255\n",
    "i = 0\n",
    "while True:\n",
    "  i += 1\n",
    "  ret, frame = cap.read()\n",
    "  if not ret:\n",
    "    break\n",
    "  gray = cv2.cvtColor(frame, cv2.COLOR_BGR2GRAY)\n",
    "  flow = cv2.calcOpticalFlowFarneback(prev_gray, gray,\n",
    "\t\t\t\t\t\t\t\t\tNone,\n",
    "\t\t\t\t\t\t\t\t\t0.5, 3, 15, 3, 5, 1.2, 0)\n",
    "  magnitude, angle = cv2.cartToPolar(flow[..., 0], flow[..., 1])\n",
    "  mask[..., 0] = angle * 180 / np.pi / 2\n",
    "  mask[..., 2] = cv2.normalize(magnitude, None, 0, 255, cv2.NORM_MINMAX)\n",
    "  rgb = cv2.cvtColor(mask, cv2.COLOR_HSV2BGR)\n",
    "  out.write(rgb)\n",
    "  print(f'\\rProgress: {i}', end='')\n",
    "  prev_gray = gray\n",
    "cap.release()\n",
    "out.release()\n",
    "cv2.destroyAllWindows()"
   ],
   "metadata": {
    "collapsed": false
   }
  },
  {
   "cell_type": "code",
   "execution_count": 30,
   "outputs": [
    {
     "name": "stdout",
     "output_type": "stream",
     "text": [
      "Progress: 1201"
     ]
    }
   ],
   "source": [
    "cap = cv2.VideoCapture(\"pre_dense.mp4\")\n",
    "if not cap.isOpened():\n",
    "    print(\"Error opening video file\")\n",
    "    exit()\n",
    "frame_width = int(cap.get(cv2.CAP_PROP_FRAME_WIDTH))\n",
    "frame_height = int(cap.get(cv2.CAP_PROP_FRAME_HEIGHT))\n",
    "frame_rate = cap.get(cv2.CAP_PROP_FPS)\n",
    "fourcc = cv2.VideoWriter_fourcc(*'mp4v')  # Try 'XVID' if 'mp4v' does not work\n",
    "out = cv2.VideoWriter('dense_opti_flow_v2.mp4', fourcc, frame_rate, (frame_width, frame_height), True)\n",
    "ret, first_frame = cap.read()\n",
    "if not ret:\n",
    "    print(\"Error reading first frame\")\n",
    "    cap.release()\n",
    "    exit()\n",
    "prev_gray = cv2.cvtColor(first_frame, cv2.COLOR_BGR2GRAY)\n",
    "mask = np.zeros_like(first_frame)\n",
    "mask[..., 1] = 255\n",
    "i = 0\n",
    "while True:\n",
    "    i += 1\n",
    "    ret, frame = cap.read()\n",
    "    if not ret:\n",
    "        break\n",
    "    gray = cv2.cvtColor(frame, cv2.COLOR_BGR2GRAY)\n",
    "    flow = cv2.calcOpticalFlowFarneback(prev_gray, gray, None, 0.5, 3, 15, 3, 5, 1.2, 0)\n",
    "    magnitude, angle = cv2.cartToPolar(flow[..., 0], flow[..., 1])\n",
    "    mask[..., 0] = angle * 180 / np.pi / 2\n",
    "    mask[..., 2] = cv2.normalize(magnitude, None, 0, 255, cv2.NORM_MINMAX)\n",
    "    rgb = cv2.cvtColor(mask, cv2.COLOR_HSV2BGR)\n",
    "    out.write(rgb)\n",
    "    print(f'\\rProgress: {i}', end='')\n",
    "    prev_gray = gray\n",
    "cap.release()\n",
    "out.release()\n",
    "cv2.destroyAllWindows()"
   ],
   "metadata": {
    "collapsed": false
   }
  },
  {
   "cell_type": "markdown",
   "source": [
    "Define a function for video to image and use it"
   ],
   "metadata": {
    "collapsed": false
   }
  },
  {
   "cell_type": "code",
   "execution_count": null,
   "outputs": [],
   "source": [
    "# Define a function to extract and save frames from a video file\n",
    "current_location = os.getcwd();\n",
    "output_folder = current_location + '/raw_images'\n",
    "video_path = current_location + '/sample.avi'\n",
    "\n",
    "def video2image(video_path, output_folder):\n",
    "    # Create the output folder if it doesn't exist\n",
    "    if not os.path.exists(output_folder):\n",
    "        os.makedirs(output_folder)\n",
    "\n",
    "    # Load the video\n",
    "    video = cv2.VideoCapture(video_path)\n",
    "\n",
    "    # Initialize frame count\n",
    "    count = 0\n",
    "\n",
    "    # Iterate through video frames\n",
    "    while True:\n",
    "        # Read a frame\n",
    "        success, frame = video.read()\n",
    "        # Break if no frame is read (end of video)\n",
    "        if not success:\n",
    "            break\n",
    "        # Save the frame as an image\n",
    "        cv2.imwrite(os.path.join(output_folder, f\"frame_{count}.jpg\"), frame)\n",
    "        # Increment frame count\n",
    "        count += 1\n",
    "\n",
    "    # Release the video object\n",
    "    video.release()\n",
    "\n",
    "    return count"
   ],
   "metadata": {
    "collapsed": false
   }
  },
  {
   "cell_type": "markdown",
   "source": [
    "Save the video into images"
   ],
   "metadata": {
    "collapsed": false
   }
  },
  {
   "cell_type": "code",
   "execution_count": null,
   "outputs": [],
   "source": [
    "frame_count = video2image(video_path, output_folder)"
   ],
   "metadata": {
    "collapsed": false
   }
  },
  {
   "cell_type": "markdown",
   "source": [
    "Design a crop function that remove the dish"
   ],
   "metadata": {
    "collapsed": false
   }
  },
  {
   "cell_type": "code",
   "execution_count": null,
   "outputs": [],
   "source": [
    "def crop_circle(image_path):\n",
    "\n",
    "    # Read the image\n",
    "    image = cv2.imread(image_path)\n",
    "\n",
    "    # Create a mask with the same dimensions as the image\n",
    "    mask = np.zeros_like(image)\n",
    "    rows, cols, _ = mask.shape\n",
    "\n",
    "    # Compute the center and radius of the circle\n",
    "    center = (cols // 2, rows // 2)\n",
    "    radius = min(center[0], center[1], rows - center[1], cols - center[0])\n",
    "\n",
    "    # Draw the circular mask\n",
    "    cv2.circle(mask, center, radius, (255, 255, 255), -1)\n",
    "\n",
    "    # Apply the mask\n",
    "    circular_image = cv2.bitwise_and(image, mask)\n",
    "\n",
    "    # Optionally, you can remove the black background\n",
    "    masked_data = cv2.cvtColor(circular_image, cv2.COLOR_BGR2BGRA)\n",
    "    masked_data[mask == 0] = [0, 0, 0, 0]\n",
    "\n",
    "    # Save or display the result\n",
    "    cv2.imwrite('circular_image.png', masked_data)\n",
    "    # cv2.imshow('Circular Image', masked_data)\n",
    "    # cv2.waitKey(0)\n",
    "    # cv2.destroyAllWindows()\n",
    "\n",
    "# Use the function\n",
    "crop_circle('path_to_your_image.jpg')"
   ],
   "metadata": {
    "collapsed": false
   }
  }
 ],
 "metadata": {
  "kernelspec": {
   "display_name": "Python 3",
   "language": "python",
   "name": "python3"
  },
  "language_info": {
   "codemirror_mode": {
    "name": "ipython",
    "version": 2
   },
   "file_extension": ".py",
   "mimetype": "text/x-python",
   "name": "python",
   "nbconvert_exporter": "python",
   "pygments_lexer": "ipython2",
   "version": "2.7.6"
  }
 },
 "nbformat": 4,
 "nbformat_minor": 0
}
