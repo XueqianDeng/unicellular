{
 "cells": [
  {
   "cell_type": "markdown",
   "source": [
    "## Computer Vision Algorithm for Tracking Planarian Motion\n",
    "developed by Hokin Deng xueqiandeng@yahoo.com"
   ],
   "metadata": {
    "collapsed": false
   }
  },
  {
   "cell_type": "markdown",
   "source": [
    "# Import Dependencies and Data"
   ],
   "metadata": {
    "collapsed": false
   }
  },
  {
   "cell_type": "markdown",
   "source": [
    "Import packages and make sure of the python technicality"
   ],
   "metadata": {
    "collapsed": false
   }
  },
  {
   "cell_type": "code",
   "execution_count": 1,
   "outputs": [
    {
     "name": "stdout",
     "output_type": "stream",
     "text": [
      "Python Version: 3.11.4 (main, Jul  5 2023, 08:41:25) [Clang 14.0.6 ]\n",
      "Python Executable: /Users/billdeng/anaconda3/envs/unlearning_Version1/bin/python\n",
      "Python Path: ['/Users/billdeng/PycharmProjects/unicellular', '/Users/billdeng/PycharmProjects/unicellular', '/Users/billdeng/anaconda3/envs/unlearning_Version1/lib/python311.zip', '/Users/billdeng/anaconda3/envs/unlearning_Version1/lib/python3.11', '/Users/billdeng/anaconda3/envs/unlearning_Version1/lib/python3.11/lib-dynload', '', '/Users/billdeng/anaconda3/envs/unlearning_Version1/lib/python3.11/site-packages']\n"
     ]
    }
   ],
   "source": [
    "import sys\n",
    "import os\n",
    "print(\"Python Version:\", sys.version)\n",
    "print(\"Python Executable:\", sys.executable)\n",
    "print(\"Python Path:\", sys.path)"
   ],
   "metadata": {
    "collapsed": false
   }
  },
  {
   "cell_type": "code",
   "execution_count": 97,
   "outputs": [],
   "source": [
    "import cv2\n",
    "import math\n",
    "import copy\n",
    "import numpy as np\n",
    "from collections import deque\n",
    "import numpy as np\n",
    "import argparse\n",
    "import imutils\n",
    "np.set_printoptions(threshold=sys.maxsize)\n",
    "np.set_printoptions(threshold=50)"
   ],
   "metadata": {
    "collapsed": false
   }
  },
  {
   "cell_type": "markdown",
   "source": [
    "The video data should be named as \"sample.avi\" and put in the folder as the notebook."
   ],
   "metadata": {
    "collapsed": false
   }
  },
  {
   "cell_type": "code",
   "execution_count": 3,
   "metadata": {
    "collapsed": true
   },
   "outputs": [],
   "source": [
    "# Open a video file (replace 'sample.avi' with the path)\n",
    "cap = cv2.VideoCapture('sample.avi')\n",
    "\n",
    "# Check if the video file was opened successfully\n",
    "if not cap.isOpened():\n",
    "    print(\"Error: Could not open video file.\")\n",
    "    exit()"
   ]
  },
  {
   "cell_type": "markdown",
   "source": [
    "Display the video if want to have a look at it"
   ],
   "metadata": {
    "collapsed": false
   }
  },
  {
   "cell_type": "code",
   "execution_count": 4,
   "outputs": [],
   "source": [
    "#cv2.startWindowThread()\n",
    "# Loop to read and display frames\n",
    "#while True:\n",
    "    # Read a frame from the video\n",
    "#    ret, frame = cap.read()\n",
    "    # If the video has ended, break out of the loop\n",
    "#    if not ret:\n",
    "#        break\n",
    "    # Display the frame in a window\n",
    "#    cv2.imshow('Video', frame)\n",
    "    # Exit the loop if the 'q' key is pressed\n",
    "#    if cv2.waitKey(25) & 0xFF == ord('q'):\n",
    "#        break\n",
    "\n",
    "# Release the video capture object and close the window"
   ],
   "metadata": {
    "collapsed": false
   }
  },
  {
   "cell_type": "markdown",
   "source": [
    "## Pre-Processing"
   ],
   "metadata": {
    "collapsed": false
   }
  },
  {
   "cell_type": "markdown",
   "source": [
    "First, get basic properties about our video"
   ],
   "metadata": {
    "collapsed": false
   }
  },
  {
   "cell_type": "code",
   "execution_count": 5,
   "outputs": [
    {
     "name": "stdout",
     "output_type": "stream",
     "text": [
      "Frame Count: 1202\n",
      "Frame Width: 2160\n",
      "Frame Height: 2160\n",
      "Frame Rate: 10.0 frames per second\n",
      "Video Duration: 120.20 seconds\n"
     ]
    }
   ],
   "source": [
    "# Get basic video properties\n",
    "frame_count = int(cap.get(cv2.CAP_PROP_FRAME_COUNT))\n",
    "frame_width = int(cap.get(cv2.CAP_PROP_FRAME_WIDTH))\n",
    "frame_height = int(cap.get(cv2.CAP_PROP_FRAME_HEIGHT))\n",
    "frame_rate = cap.get(cv2.CAP_PROP_FPS)\n",
    "video_duration_sec = frame_count / frame_rate if frame_rate > 0 else 0\n",
    "\n",
    "# Print the video properties\n",
    "print(f\"Frame Count: {frame_count}\")\n",
    "print(f\"Frame Width: {frame_width}\")\n",
    "print(f\"Frame Height: {frame_height}\")\n",
    "print(f\"Frame Rate: {frame_rate} frames per second\")\n",
    "print(f\"Video Duration: {video_duration_sec:.2f} seconds\")"
   ],
   "metadata": {
    "collapsed": false
   }
  },
  {
   "cell_type": "code",
   "execution_count": 6,
   "outputs": [
    {
     "name": "stdout",
     "output_type": "stream",
     "text": [
      "ret <class 'bool'>\n",
      "frame <class 'numpy.ndarray'>\n",
      "ret True\n",
      "frame [[[255 255 255]\n",
      "  [255 255 255]\n",
      "  [255 255 255]\n",
      "  ...\n",
      "  [255 255 255]\n",
      "  [255 255 255]\n",
      "  [255 255 255]]\n",
      "\n",
      " [[255 255 255]\n",
      "  [255 255 255]\n",
      "  [255 255 255]\n",
      "  ...\n",
      "  [255 255 255]\n",
      "  [255 255 255]\n",
      "  [255 255 255]]\n",
      "\n",
      " [[255 255 255]\n",
      "  [255 255 255]\n",
      "  [255 255 255]\n",
      "  ...\n",
      "  [255 255 255]\n",
      "  [255 255 255]\n",
      "  [255 255 255]]\n",
      "\n",
      " ...\n",
      "\n",
      " [[255 255 255]\n",
      "  [255 255 255]\n",
      "  [255 255 255]\n",
      "  ...\n",
      "  [255 255 255]\n",
      "  [255 255 255]\n",
      "  [255 255 255]]\n",
      "\n",
      " [[255 255 255]\n",
      "  [255 255 255]\n",
      "  [255 255 255]\n",
      "  ...\n",
      "  [255 255 255]\n",
      "  [255 255 255]\n",
      "  [255 255 255]]\n",
      "\n",
      " [[255 255 255]\n",
      "  [255 255 255]\n",
      "  [255 255 255]\n",
      "  ...\n",
      "  [255 255 255]\n",
      "  [255 255 255]\n",
      "  [255 255 255]]]\n"
     ]
    }
   ],
   "source": [
    "example_ret, example_frame = cap.read()\n",
    "print( 'ret', type(example_ret))\n",
    "print( 'frame', type(example_frame))\n",
    "print('ret', example_ret)\n",
    "print('frame', example_frame)"
   ],
   "metadata": {
    "collapsed": false
   }
  },
  {
   "cell_type": "code",
   "execution_count": 8,
   "outputs": [],
   "source": [
    "# frame_number = 100  # The frame you want to access\n",
    "# Set the video position to the desired frame\n",
    "# cap.set(cv2.CAP_PROP_POS_FRAMES, frame_number - 1)\n",
    "# Read the frame\n",
    "# ret, frame = cap.read()\n",
    "# if ret:\n",
    "    # Process the frame\n",
    "#     cv2.imshow('Frame 100', frame)\n",
    "#    cv2.waitKey(0)  # Wait for a key press to close the image window\n",
    "# else:\n",
    "#    print(\"Error: Unable to read the frame\")"
   ],
   "metadata": {
    "collapsed": false
   }
  },
  {
   "cell_type": "markdown",
   "source": [
    "Inspect function for a frame"
   ],
   "metadata": {
    "collapsed": false
   }
  },
  {
   "cell_type": "markdown",
   "source": [],
   "metadata": {
    "collapsed": false
   }
  },
  {
   "cell_type": "code",
   "execution_count": 9,
   "outputs": [],
   "source": [
    "def inspect_frame_from_video(cap_for_here, frame_number):\n",
    "    \"\"\"\n",
    "    Inspects a specific frame in a video.\n",
    "\n",
    "    :param cap_for_here: video reference\n",
    "    :param frame_number: The frame number to inspect (1-based index).\n",
    "    :return: None\n",
    "    \"\"\"\n",
    "    # Open the video file\n",
    "    if not cap_for_here.isOpened():\n",
    "        print(\"Error: Unable to open video file\")\n",
    "        return\n",
    "    # Check if the frame number is valid\n",
    "    total_frames = cap_for_here.get(cv2.CAP_PROP_FRAME_COUNT)\n",
    "    if frame_number < 1 or frame_number > total_frames:\n",
    "        print(f\"Frame number should be between 1 and {int(total_frames)}\")\n",
    "        return\n",
    "    # Set the video position to the desired frame (0-based index for frame_number)\n",
    "    cap_for_here.set(cv2.CAP_PROP_POS_FRAMES, frame_number - 1)\n",
    "    # Read the frame\n",
    "    ret_temp, frame_temp = cap_for_here.read()\n",
    "    if ret_temp:\n",
    "        # Display the frame\n",
    "        # cv2.imshow(f'Frame {frame_number}', frame)\n",
    "        # cv2.waitKey(0)  # Wait for a key press to close the image window\n",
    "        # cv2.destroyAllWindows()\n",
    "        frame_h, frame_w = frame_temp.shape[:2]\n",
    "        print(f\"Frame Width: {frame_h}\")\n",
    "        print(f\"Frame Height: {frame_w}\")\n",
    "        # Color Channels\n",
    "        channels = frame_temp.shape[2] if len(frame_temp.shape) == 3 else 1\n",
    "        print(f\"Color Channels: {channels}\")\n",
    "        # Data Type\n",
    "        data_type = frame_temp.dtype\n",
    "        print(f\"Data Type: {data_type}\")\n",
    "        # Aspect Ratio\n",
    "        aspect_ratio = frame_w / frame_h\n",
    "        print(f\"Aspect Ratio: {aspect_ratio}\")\n",
    "        # Resolution (assuming a standard display resolution of 96 PPI)\n",
    "        # Color Space (assuming default BGR)\n",
    "        color_space = \"BGR\" if channels == 3 else \"Grayscale\"\n",
    "        print(f\"Color Space: {color_space}\")\n",
    "        # Histogram for each channel\n",
    "        if channels > 1:\n",
    "            for i, col in enumerate(['Blue', 'Green', 'Red']):\n",
    "                hist = cv2.calcHist([frame_temp], [i], None, [256], [0, 256])\n",
    "                print(f\"Histogram for {col} channel: {np.array(hist).flatten()}\")\n",
    "        else:\n",
    "            hist = cv2.calcHist([frame_temp], [0], None, [256], [0, 256])\n",
    "            print(f\"Histogram for Grayscale: {np.array(hist).flatten()}\")\n",
    "    else:\n",
    "        print(\"Error: Unable to read the frame\")"
   ],
   "metadata": {
    "collapsed": false
   }
  },
  {
   "cell_type": "code",
   "execution_count": 61,
   "outputs": [],
   "source": [
    "def inspect_given_a_frame(this_frame):\n",
    "    frame_h, frame_w = this_frame.shape[:2]\n",
    "    print(f\"Frame Width: {frame_h}\")\n",
    "    print(f\"Frame Height: {frame_w}\")\n",
    "    channels = this_frame.shape[2] if len(this_frame.shape) == 3 else 1\n",
    "    print(f\"Color Channels: {channels}\")\n",
    "    data_type = this_frame.dtype\n",
    "    print(f\"Data Type: {data_type}\")\n",
    "    aspect_ratio = frame_w / frame_h\n",
    "    print(f\"Aspect Ratio: {aspect_ratio}\")\n",
    "    color_space = \"BGR\" if channels == 3 else \"Grayscale\"\n",
    "    print(f\"Color Space: {color_space}\")"
   ],
   "metadata": {
    "collapsed": false
   }
  },
  {
   "cell_type": "code",
   "execution_count": 11,
   "outputs": [
    {
     "name": "stdout",
     "output_type": "stream",
     "text": [
      "Frame Width: 2160\n",
      "Frame Height: 2160\n",
      "Color Channels: 3\n",
      "Data Type: uint8\n",
      "Aspect Ratio: 1.0\n",
      "Color Space: BGR\n",
      "Histogram for Blue channel: [0.000000e+00 0.000000e+00 0.000000e+00 0.000000e+00 0.000000e+00\n",
      " 0.000000e+00 0.000000e+00 0.000000e+00 0.000000e+00 0.000000e+00\n",
      " 0.000000e+00 0.000000e+00 0.000000e+00 0.000000e+00 0.000000e+00\n",
      " 0.000000e+00 0.000000e+00 0.000000e+00 0.000000e+00 0.000000e+00\n",
      " 0.000000e+00 0.000000e+00 0.000000e+00 0.000000e+00 0.000000e+00\n",
      " 0.000000e+00 0.000000e+00 4.000000e+00 1.000000e+01 3.000000e+01\n",
      " 8.700000e+01 2.260000e+02 2.210000e+02 3.280000e+02 2.530000e+02\n",
      " 2.220000e+02 2.660000e+02 3.060000e+02 3.730000e+02 3.690000e+02\n",
      " 4.090000e+02 4.690000e+02 4.750000e+02 5.660000e+02 6.110000e+02\n",
      " 8.480000e+02 1.009000e+03 8.500000e+02 9.110000e+02 8.800000e+02\n",
      " 8.680000e+02 9.620000e+02 9.770000e+02 9.740000e+02 9.730000e+02\n",
      " 1.063000e+03 1.188000e+03 1.234000e+03 1.331000e+03 1.451000e+03\n",
      " 1.457000e+03 1.428000e+03 1.485000e+03 1.477000e+03 1.456000e+03\n",
      " 1.477000e+03 1.443000e+03 1.572000e+03 1.551000e+03 1.555000e+03\n",
      " 1.636000e+03 1.707000e+03 1.698000e+03 1.583000e+03 1.561000e+03\n",
      " 1.700000e+03 1.576000e+03 1.728000e+03 1.714000e+03 1.834000e+03\n",
      " 1.894000e+03 1.987000e+03 1.889000e+03 1.887000e+03 1.906000e+03\n",
      " 1.830000e+03 1.857000e+03 1.828000e+03 1.832000e+03 1.759000e+03\n",
      " 1.725000e+03 1.826000e+03 1.865000e+03 1.907000e+03 2.020000e+03\n",
      " 2.038000e+03 2.165000e+03 2.210000e+03 2.318000e+03 2.345000e+03\n",
      " 2.401000e+03 2.636000e+03 2.617000e+03 2.715000e+03 2.768000e+03\n",
      " 2.835000e+03 2.833000e+03 2.857000e+03 2.911000e+03 3.056000e+03\n",
      " 2.952000e+03 3.023000e+03 2.979000e+03 3.089000e+03 3.116000e+03\n",
      " 3.152000e+03 3.051000e+03 3.086000e+03 3.090000e+03 3.104000e+03\n",
      " 3.109000e+03 3.140000e+03 3.183000e+03 3.074000e+03 3.179000e+03\n",
      " 3.253000e+03 3.289000e+03 3.264000e+03 3.274000e+03 3.360000e+03\n",
      " 3.261000e+03 3.273000e+03 3.174000e+03 3.222000e+03 3.327000e+03\n",
      " 3.233000e+03 3.238000e+03 3.250000e+03 3.277000e+03 3.205000e+03\n",
      " 3.359000e+03 3.402000e+03 3.399000e+03 3.398000e+03 3.527000e+03\n",
      " 3.406000e+03 3.282000e+03 3.304000e+03 3.425000e+03 3.329000e+03\n",
      " 3.346000e+03 3.266000e+03 3.412000e+03 3.307000e+03 3.346000e+03\n",
      " 3.347000e+03 3.273000e+03 3.232000e+03 3.311000e+03 3.347000e+03\n",
      " 3.354000e+03 3.361000e+03 3.239000e+03 3.369000e+03 3.300000e+03\n",
      " 3.334000e+03 3.398000e+03 3.381000e+03 3.447000e+03 3.419000e+03\n",
      " 3.465000e+03 3.527000e+03 3.461000e+03 3.479000e+03 3.563000e+03\n",
      " 3.605000e+03 3.741000e+03 3.605000e+03 3.615000e+03 3.476000e+03\n",
      " 3.339000e+03 3.376000e+03 3.426000e+03 3.333000e+03 3.480000e+03\n",
      " 3.445000e+03 3.466000e+03 3.544000e+03 3.532000e+03 3.652000e+03\n",
      " 3.651000e+03 3.764000e+03 3.883000e+03 4.045000e+03 4.313000e+03\n",
      " 4.621000e+03 4.856000e+03 5.330000e+03 5.612000e+03 5.936000e+03\n",
      " 6.236000e+03 6.422000e+03 6.459000e+03 6.266000e+03 6.165000e+03\n",
      " 6.226000e+03 6.134000e+03 6.049000e+03 5.957000e+03 6.076000e+03\n",
      " 5.904000e+03 6.067000e+03 5.699000e+03 5.779000e+03 5.503000e+03\n",
      " 5.408000e+03 5.514000e+03 5.502000e+03 5.237000e+03 5.252000e+03\n",
      " 5.244000e+03 5.350000e+03 5.522000e+03 5.502000e+03 5.522000e+03\n",
      " 5.763000e+03 5.773000e+03 5.823000e+03 5.819000e+03 5.883000e+03\n",
      " 5.640000e+03 5.785000e+03 5.877000e+03 5.961000e+03 5.960000e+03\n",
      " 6.170000e+03 6.329000e+03 6.331000e+03 6.774000e+03 7.118000e+03\n",
      " 7.557000e+03 7.924000e+03 8.176000e+03 8.439000e+03 8.898000e+03\n",
      " 9.220000e+03 9.365000e+03 9.771000e+03 9.983000e+03 1.059300e+04\n",
      " 1.184900e+04 1.421500e+04 1.911200e+04 3.107300e+04 5.732600e+04\n",
      " 3.775011e+06]\n",
      "Histogram for Green channel: [0.000000e+00 0.000000e+00 0.000000e+00 0.000000e+00 0.000000e+00\n",
      " 0.000000e+00 0.000000e+00 0.000000e+00 0.000000e+00 0.000000e+00\n",
      " 0.000000e+00 0.000000e+00 0.000000e+00 0.000000e+00 0.000000e+00\n",
      " 0.000000e+00 0.000000e+00 0.000000e+00 0.000000e+00 0.000000e+00\n",
      " 0.000000e+00 0.000000e+00 0.000000e+00 0.000000e+00 0.000000e+00\n",
      " 0.000000e+00 0.000000e+00 4.000000e+00 1.000000e+01 3.000000e+01\n",
      " 8.700000e+01 2.260000e+02 2.210000e+02 3.280000e+02 2.530000e+02\n",
      " 2.220000e+02 2.660000e+02 3.060000e+02 3.730000e+02 3.690000e+02\n",
      " 4.090000e+02 4.690000e+02 4.750000e+02 5.660000e+02 6.110000e+02\n",
      " 8.480000e+02 1.009000e+03 8.500000e+02 9.110000e+02 8.800000e+02\n",
      " 8.680000e+02 9.620000e+02 9.770000e+02 9.740000e+02 9.730000e+02\n",
      " 1.063000e+03 1.188000e+03 1.234000e+03 1.331000e+03 1.451000e+03\n",
      " 1.457000e+03 1.428000e+03 1.485000e+03 1.477000e+03 1.456000e+03\n",
      " 1.477000e+03 1.443000e+03 1.572000e+03 1.551000e+03 1.555000e+03\n",
      " 1.636000e+03 1.707000e+03 1.698000e+03 1.583000e+03 1.561000e+03\n",
      " 1.700000e+03 1.576000e+03 1.728000e+03 1.714000e+03 1.834000e+03\n",
      " 1.894000e+03 1.987000e+03 1.889000e+03 1.887000e+03 1.906000e+03\n",
      " 1.830000e+03 1.857000e+03 1.828000e+03 1.832000e+03 1.759000e+03\n",
      " 1.725000e+03 1.826000e+03 1.865000e+03 1.907000e+03 2.020000e+03\n",
      " 2.038000e+03 2.165000e+03 2.210000e+03 2.318000e+03 2.345000e+03\n",
      " 2.401000e+03 2.636000e+03 2.617000e+03 2.715000e+03 2.768000e+03\n",
      " 2.835000e+03 2.833000e+03 2.857000e+03 2.911000e+03 3.056000e+03\n",
      " 2.952000e+03 3.023000e+03 2.979000e+03 3.089000e+03 3.116000e+03\n",
      " 3.152000e+03 3.051000e+03 3.086000e+03 3.090000e+03 3.104000e+03\n",
      " 3.109000e+03 3.140000e+03 3.183000e+03 3.074000e+03 3.179000e+03\n",
      " 3.253000e+03 3.289000e+03 3.264000e+03 3.274000e+03 3.360000e+03\n",
      " 3.261000e+03 3.273000e+03 3.174000e+03 3.222000e+03 3.327000e+03\n",
      " 3.233000e+03 3.238000e+03 3.250000e+03 3.277000e+03 3.205000e+03\n",
      " 3.359000e+03 3.402000e+03 3.399000e+03 3.398000e+03 3.527000e+03\n",
      " 3.406000e+03 3.282000e+03 3.304000e+03 3.425000e+03 3.329000e+03\n",
      " 3.346000e+03 3.266000e+03 3.412000e+03 3.307000e+03 3.346000e+03\n",
      " 3.347000e+03 3.273000e+03 3.232000e+03 3.311000e+03 3.347000e+03\n",
      " 3.354000e+03 3.361000e+03 3.239000e+03 3.369000e+03 3.300000e+03\n",
      " 3.334000e+03 3.398000e+03 3.381000e+03 3.447000e+03 3.419000e+03\n",
      " 3.465000e+03 3.527000e+03 3.461000e+03 3.479000e+03 3.563000e+03\n",
      " 3.605000e+03 3.741000e+03 3.605000e+03 3.615000e+03 3.476000e+03\n",
      " 3.339000e+03 3.376000e+03 3.426000e+03 3.333000e+03 3.480000e+03\n",
      " 3.445000e+03 3.466000e+03 3.544000e+03 3.532000e+03 3.652000e+03\n",
      " 3.651000e+03 3.764000e+03 3.883000e+03 4.045000e+03 4.313000e+03\n",
      " 4.621000e+03 4.856000e+03 5.330000e+03 5.612000e+03 5.936000e+03\n",
      " 6.236000e+03 6.422000e+03 6.459000e+03 6.266000e+03 6.165000e+03\n",
      " 6.226000e+03 6.134000e+03 6.049000e+03 5.957000e+03 6.076000e+03\n",
      " 5.904000e+03 6.067000e+03 5.699000e+03 5.779000e+03 5.503000e+03\n",
      " 5.408000e+03 5.514000e+03 5.502000e+03 5.237000e+03 5.252000e+03\n",
      " 5.244000e+03 5.350000e+03 5.522000e+03 5.502000e+03 5.522000e+03\n",
      " 5.763000e+03 5.773000e+03 5.823000e+03 5.819000e+03 5.883000e+03\n",
      " 5.640000e+03 5.785000e+03 5.877000e+03 5.961000e+03 5.960000e+03\n",
      " 6.170000e+03 6.329000e+03 6.331000e+03 6.774000e+03 7.118000e+03\n",
      " 7.557000e+03 7.924000e+03 8.176000e+03 8.439000e+03 8.898000e+03\n",
      " 9.220000e+03 9.365000e+03 9.771000e+03 9.983000e+03 1.059300e+04\n",
      " 1.184900e+04 1.421500e+04 1.911200e+04 3.107300e+04 5.732600e+04\n",
      " 3.775011e+06]\n",
      "Histogram for Red channel: [0.000000e+00 0.000000e+00 0.000000e+00 0.000000e+00 0.000000e+00\n",
      " 0.000000e+00 0.000000e+00 0.000000e+00 0.000000e+00 0.000000e+00\n",
      " 0.000000e+00 0.000000e+00 0.000000e+00 0.000000e+00 0.000000e+00\n",
      " 0.000000e+00 0.000000e+00 0.000000e+00 0.000000e+00 0.000000e+00\n",
      " 0.000000e+00 0.000000e+00 0.000000e+00 0.000000e+00 0.000000e+00\n",
      " 0.000000e+00 0.000000e+00 4.000000e+00 1.000000e+01 3.000000e+01\n",
      " 8.700000e+01 2.260000e+02 2.210000e+02 3.280000e+02 2.530000e+02\n",
      " 2.220000e+02 2.660000e+02 3.060000e+02 3.730000e+02 3.690000e+02\n",
      " 4.090000e+02 4.690000e+02 4.750000e+02 5.660000e+02 6.110000e+02\n",
      " 8.480000e+02 1.009000e+03 8.500000e+02 9.110000e+02 8.800000e+02\n",
      " 8.680000e+02 9.620000e+02 9.770000e+02 9.740000e+02 9.730000e+02\n",
      " 1.063000e+03 1.188000e+03 1.234000e+03 1.331000e+03 1.451000e+03\n",
      " 1.457000e+03 1.428000e+03 1.485000e+03 1.477000e+03 1.456000e+03\n",
      " 1.477000e+03 1.443000e+03 1.572000e+03 1.551000e+03 1.555000e+03\n",
      " 1.636000e+03 1.707000e+03 1.698000e+03 1.583000e+03 1.561000e+03\n",
      " 1.700000e+03 1.576000e+03 1.728000e+03 1.714000e+03 1.834000e+03\n",
      " 1.894000e+03 1.987000e+03 1.889000e+03 1.887000e+03 1.906000e+03\n",
      " 1.830000e+03 1.857000e+03 1.828000e+03 1.832000e+03 1.759000e+03\n",
      " 1.725000e+03 1.826000e+03 1.865000e+03 1.907000e+03 2.020000e+03\n",
      " 2.038000e+03 2.165000e+03 2.210000e+03 2.318000e+03 2.345000e+03\n",
      " 2.401000e+03 2.636000e+03 2.617000e+03 2.715000e+03 2.768000e+03\n",
      " 2.835000e+03 2.833000e+03 2.857000e+03 2.911000e+03 3.056000e+03\n",
      " 2.952000e+03 3.023000e+03 2.979000e+03 3.089000e+03 3.116000e+03\n",
      " 3.152000e+03 3.051000e+03 3.086000e+03 3.090000e+03 3.104000e+03\n",
      " 3.109000e+03 3.140000e+03 3.183000e+03 3.074000e+03 3.179000e+03\n",
      " 3.253000e+03 3.289000e+03 3.264000e+03 3.274000e+03 3.360000e+03\n",
      " 3.261000e+03 3.273000e+03 3.174000e+03 3.222000e+03 3.327000e+03\n",
      " 3.233000e+03 3.238000e+03 3.250000e+03 3.277000e+03 3.205000e+03\n",
      " 3.359000e+03 3.402000e+03 3.399000e+03 3.398000e+03 3.527000e+03\n",
      " 3.406000e+03 3.282000e+03 3.304000e+03 3.425000e+03 3.329000e+03\n",
      " 3.346000e+03 3.266000e+03 3.412000e+03 3.307000e+03 3.346000e+03\n",
      " 3.347000e+03 3.273000e+03 3.232000e+03 3.311000e+03 3.347000e+03\n",
      " 3.354000e+03 3.361000e+03 3.239000e+03 3.369000e+03 3.300000e+03\n",
      " 3.334000e+03 3.398000e+03 3.381000e+03 3.447000e+03 3.419000e+03\n",
      " 3.465000e+03 3.527000e+03 3.461000e+03 3.479000e+03 3.563000e+03\n",
      " 3.605000e+03 3.741000e+03 3.605000e+03 3.615000e+03 3.476000e+03\n",
      " 3.339000e+03 3.376000e+03 3.426000e+03 3.333000e+03 3.480000e+03\n",
      " 3.445000e+03 3.466000e+03 3.544000e+03 3.532000e+03 3.652000e+03\n",
      " 3.651000e+03 3.764000e+03 3.883000e+03 4.045000e+03 4.313000e+03\n",
      " 4.621000e+03 4.856000e+03 5.330000e+03 5.612000e+03 5.936000e+03\n",
      " 6.236000e+03 6.422000e+03 6.459000e+03 6.266000e+03 6.165000e+03\n",
      " 6.226000e+03 6.134000e+03 6.049000e+03 5.957000e+03 6.076000e+03\n",
      " 5.904000e+03 6.067000e+03 5.699000e+03 5.779000e+03 5.503000e+03\n",
      " 5.408000e+03 5.514000e+03 5.502000e+03 5.237000e+03 5.252000e+03\n",
      " 5.244000e+03 5.350000e+03 5.522000e+03 5.502000e+03 5.522000e+03\n",
      " 5.763000e+03 5.773000e+03 5.823000e+03 5.819000e+03 5.883000e+03\n",
      " 5.640000e+03 5.785000e+03 5.877000e+03 5.961000e+03 5.960000e+03\n",
      " 6.170000e+03 6.329000e+03 6.331000e+03 6.774000e+03 7.118000e+03\n",
      " 7.557000e+03 7.924000e+03 8.176000e+03 8.439000e+03 8.898000e+03\n",
      " 9.220000e+03 9.365000e+03 9.771000e+03 9.983000e+03 1.059300e+04\n",
      " 1.184900e+04 1.421500e+04 1.911200e+04 3.107300e+04 5.732600e+04\n",
      " 3.775011e+06]\n"
     ]
    }
   ],
   "source": [
    "# Usage example\n",
    "video_file = 'sample.avi'\n",
    "frame_to_inspect = 100  # Adjust the frame number as needed\n",
    "inspect_frame_from_video(cap, frame_to_inspect)"
   ],
   "metadata": {
    "collapsed": false
   }
  },
  {
   "cell_type": "code",
   "execution_count": 12,
   "outputs": [
    {
     "name": "stdout",
     "output_type": "stream",
     "text": [
      "Frame Width: 2160\n",
      "Frame Height: 2160\n",
      "Color Channels: 3\n",
      "Data Type: uint8\n",
      "Aspect Ratio: 1.0\n",
      "Color Space: BGR\n"
     ]
    }
   ],
   "source": [
    "ret, frame_for_use = cap.read()\n",
    "inspect_given_a_frame(frame_for_use)\n",
    "cap.release()\n",
    "cv2.destroyAllWindows()"
   ],
   "metadata": {
    "collapsed": false
   }
  },
  {
   "cell_type": "markdown",
   "source": [
    "Background subtraction"
   ],
   "metadata": {
    "collapsed": false
   }
  },
  {
   "cell_type": "code",
   "execution_count": 18,
   "outputs": [
    {
     "name": "stdout",
     "output_type": "stream",
     "text": [
      "Progress: 1202"
     ]
    }
   ],
   "source": [
    "i = 0\n",
    "# Initialize video capture\n",
    "cap = cv2.VideoCapture('sample.avi')\n",
    "# Get video properties\n",
    "frame_width = int(cap.get(cv2.CAP_PROP_FRAME_WIDTH))\n",
    "frame_height = int(cap.get(cv2.CAP_PROP_FRAME_HEIGHT))\n",
    "frame_rate = int(cap.get(cv2.CAP_PROP_FPS))\n",
    "# Define codec and create VideoWriter object\n",
    "fourcc = cv2.VideoWriter_fourcc(*'XVID')\n",
    "out = cv2.VideoWriter('background_remove.avi', fourcc, frame_rate, (frame_width, frame_height), False)\n",
    "backSub = cv2.createBackgroundSubtractorMOG2()\n",
    "while True:\n",
    "    i += 1\n",
    "    ret, frame = cap.read()\n",
    "    if not ret:\n",
    "        break\n",
    "    fgMask = backSub.apply(frame)\n",
    "    out.write(fgMask)\n",
    "    print(f'\\rProgress: {i}', end='')\n",
    "    if cv2.waitKey(1) & 0xFF == ord('q'):\n",
    "        break\n",
    "cap.release()\n",
    "out.release()\n",
    "cv2.destroyAllWindows()"
   ],
   "metadata": {
    "collapsed": false
   }
  },
  {
   "cell_type": "markdown",
   "source": [
    "Spatial Smoothing"
   ],
   "metadata": {
    "collapsed": false
   }
  },
  {
   "cell_type": "code",
   "execution_count": 21,
   "outputs": [
    {
     "name": "stdout",
     "output_type": "stream",
     "text": [
      "Progress: 1202"
     ]
    }
   ],
   "source": [
    "i = 0\n",
    "cap = cv2.VideoCapture('background_remove.avi')\n",
    "frame_width = int(cap.get(cv2.CAP_PROP_FRAME_WIDTH))\n",
    "frame_height = int(cap.get(cv2.CAP_PROP_FRAME_HEIGHT))\n",
    "frame_rate = int(cap.get(cv2.CAP_PROP_FPS))\n",
    "fourcc = cv2.VideoWriter_fourcc(*'XVID')\n",
    "out = cv2.VideoWriter('background_remove_spatial_smoothed.avi', fourcc, frame_rate, (frame_width, frame_height), False)\n",
    "while True:\n",
    "    i += 1\n",
    "    ret, frame = cap.read()\n",
    "    if not ret:\n",
    "        break\n",
    "    blurred_frame = cv2.GaussianBlur(frame, (5, 5), 0)\n",
    "    out.write(blurred_frame)\n",
    "    print(f'\\rProgress: {i}', end='')\n",
    "    if cv2.waitKey(1) & 0xFF == ord('q'):\n",
    "        break\n",
    "cap.release()\n",
    "out.release()\n",
    "cv2.destroyAllWindows()"
   ],
   "metadata": {
    "collapsed": false
   }
  },
  {
   "cell_type": "markdown",
   "source": [
    "Temporal Smoothing"
   ],
   "metadata": {
    "collapsed": false
   }
  },
  {
   "cell_type": "code",
   "execution_count": 25,
   "outputs": [
    {
     "name": "stderr",
     "output_type": "stream",
     "text": [
      "OpenCV: Couldn't read video stream from file \"background_remove_spatial_smooth.avi\"\n",
      "[ERROR:0@834.234] global cap.cpp:166 open VIDEOIO(CV_IMAGES): raised OpenCV exception:\n",
      "\n",
      "OpenCV(4.8.1) /Users/runner/work/opencv-python/opencv-python/opencv/modules/videoio/src/cap_images.cpp:253: error: (-5:Bad argument) CAP_IMAGES: can't find starting number (in the name of file): background_remove_spatial_smooth.avi in function 'icvExtractPattern'\n",
      "\n",
      "\n"
     ]
    }
   ],
   "source": [
    "cap = cv2.VideoCapture('background_remove_spatial_smooth.avi')\n",
    "fourcc = cv2.VideoWriter_fourcc(*'XVID') # You can also use 'XVID'\n",
    "out = cv2.VideoWriter('b_r_s_s_t_s.avi', fourcc, frame_rate, (frame_width, frame_height), False)\n",
    "buffer_size = 5\n",
    "frame_buffer = []\n",
    "while True:\n",
    "    ret, frame = cap.read()\n",
    "    if not ret:\n",
    "        break\n",
    "    frame_buffer.append(frame)\n",
    "    if len(frame_buffer) > buffer_size:\n",
    "        frame_buffer.pop(0)\n",
    "    # Temporal smoothing (average of frames in buffer)\n",
    "    temp_smoothed = np.mean(frame_buffer, axis=0).astype(np.uint8)\n",
    "    # Write frame to video\n",
    "    out.write(temp_smoothed)\n",
    "    # Break the loop\n",
    "    if cv2.waitKey(1) & 0xFF == ord('q'):\n",
    "        break\n",
    "cap.release()\n",
    "out.release()\n",
    "cv2.destroyAllWindows()"
   ],
   "metadata": {
    "collapsed": false
   }
  },
  {
   "cell_type": "markdown",
   "source": [
    "do everything all at once"
   ],
   "metadata": {
    "collapsed": false
   }
  },
  {
   "cell_type": "code",
   "execution_count": 27,
   "outputs": [],
   "source": [
    "# Initialize video capture\n",
    "cap = cv2.VideoCapture('sample.avi')\n",
    "# Get video properties\n",
    "frame_width = int(cap.get(cv2.CAP_PROP_FRAME_WIDTH))\n",
    "frame_height = int(cap.get(cv2.CAP_PROP_FRAME_HEIGHT))\n",
    "frame_rate = int(cap.get(cv2.CAP_PROP_FPS))\n",
    "# Define codec and create VideoWriter object\n",
    "fourcc = cv2.VideoWriter_fourcc(*'mp4v') # You can also use 'XVID'\n",
    "out = cv2.VideoWriter('pre_dense.mp4', fourcc, frame_rate, (frame_width, frame_height), False)\n",
    "# Background subtractor\n",
    "backSub = cv2.createBackgroundSubtractorMOG2()\n",
    "# Buffer for temporal smoothing\n",
    "buffer_size = 5\n",
    "frame_buffer = []\n",
    "while True:\n",
    "    ret, frame = cap.read()\n",
    "    if not ret:\n",
    "        break\n",
    "    # Background subtraction\n",
    "    fgMask = backSub.apply(frame)\n",
    "    # Spatial smoothing (Gaussian blur)\n",
    "    blurred = cv2.GaussianBlur(fgMask, (5, 5), 0)\n",
    "    # Add frame to buffer for temporal smoothing\n",
    "    frame_buffer.append(blurred)\n",
    "    if len(frame_buffer) > buffer_size:\n",
    "        frame_buffer.pop(0)\n",
    "    # Temporal smoothing (average of frames in buffer)\n",
    "    temp_smoothed = np.mean(frame_buffer, axis=0).astype(np.uint8)\n",
    "    # Write frame to video\n",
    "    out.write(temp_smoothed)\n",
    "    # Display result\n",
    "    # cv2.imshow('Frame', frame)\n",
    "    # cv2.imshow('FG Mask', fgMask)\n",
    "    # cv2.imshow('Blurred', blurred)\n",
    "    # cv2.imshow('Temporally Smoothed', temp_smoothed)\n",
    "    # Break the loop\n",
    "    if cv2.waitKey(1) & 0xFF == ord('q'):\n",
    "        break\n",
    "# Release everything\n",
    "cap.release()\n",
    "out.release()\n",
    "cv2.destroyAllWindows()"
   ],
   "metadata": {
    "collapsed": false
   }
  },
  {
   "cell_type": "markdown",
   "source": [
    "dense opti flow\n",
    "this takes a very very long time"
   ],
   "metadata": {
    "collapsed": false
   }
  },
  {
   "cell_type": "code",
   "execution_count": 30,
   "outputs": [
    {
     "name": "stdout",
     "output_type": "stream",
     "text": [
      "Progress: 1201"
     ]
    }
   ],
   "source": [
    "cap = cv2.VideoCapture(\"pre_dense.mp4\")\n",
    "if not cap.isOpened():\n",
    "    print(\"Error opening video file\")\n",
    "    exit()\n",
    "frame_width = int(cap.get(cv2.CAP_PROP_FRAME_WIDTH))\n",
    "frame_height = int(cap.get(cv2.CAP_PROP_FRAME_HEIGHT))\n",
    "frame_rate = cap.get(cv2.CAP_PROP_FPS)\n",
    "fourcc = cv2.VideoWriter_fourcc(*'mp4v')  # Try 'XVID' if 'mp4v' does not work\n",
    "out = cv2.VideoWriter('dense_opti_flow_v2.mp4', fourcc, frame_rate, (frame_width, frame_height), True)\n",
    "ret, first_frame = cap.read()\n",
    "if not ret:\n",
    "    print(\"Error reading first frame\")\n",
    "    cap.release()\n",
    "    exit()\n",
    "prev_gray = cv2.cvtColor(first_frame, cv2.COLOR_BGR2GRAY)\n",
    "mask = np.zeros_like(first_frame)\n",
    "mask[..., 1] = 255\n",
    "i = 0\n",
    "while True:\n",
    "    i += 1\n",
    "    ret, frame = cap.read()\n",
    "    if not ret:\n",
    "        break\n",
    "    gray = cv2.cvtColor(frame, cv2.COLOR_BGR2GRAY)\n",
    "    flow = cv2.calcOpticalFlowFarneback(prev_gray, gray, None, 0.5, 3, 15, 3, 5, 1.2, 0)\n",
    "    magnitude, angle = cv2.cartToPolar(flow[..., 0], flow[..., 1])\n",
    "    mask[..., 0] = angle * 180 / np.pi / 2\n",
    "    mask[..., 2] = cv2.normalize(magnitude, None, 0, 255, cv2.NORM_MINMAX)\n",
    "    rgb = cv2.cvtColor(mask, cv2.COLOR_HSV2BGR)\n",
    "    out.write(rgb)\n",
    "    print(f'\\rProgress: {i}', end='')\n",
    "    prev_gray = gray\n",
    "cap.release()\n",
    "out.release()\n",
    "cv2.destroyAllWindows()"
   ],
   "metadata": {
    "collapsed": false
   }
  },
  {
   "cell_type": "markdown",
   "source": [
    "segment each worm in dense optical flow video"
   ],
   "metadata": {
    "collapsed": false
   }
  },
  {
   "cell_type": "code",
   "execution_count": 11,
   "outputs": [
    {
     "name": "stdout",
     "output_type": "stream",
     "text": [
      "Progress: 1200"
     ]
    }
   ],
   "source": [
    "cap = cv2.VideoCapture('dense_opti_flow_v2.mp4')\n",
    "frame_width = int(cap.get(cv2.CAP_PROP_FRAME_WIDTH))\n",
    "frame_height = int(cap.get(cv2.CAP_PROP_FRAME_HEIGHT))\n",
    "frame_rate = cap.get(cv2.CAP_PROP_FPS)\n",
    "fourcc = cv2.VideoWriter_fourcc(*'mp4v')  # Try 'XVID' if 'mp4v' does not work\n",
    "out = cv2.VideoWriter('dense_opt_segmented.mp4', fourcc, frame_rate, (frame_width, frame_height), True)\n",
    "# Read the first frame\n",
    "ret, frame1 = cap.read()\n",
    "if not ret:\n",
    "    print(\"Failed to read video\")\n",
    "    cap.release()\n",
    "prvs = cv2.cvtColor(frame1, cv2.COLOR_BGR2GRAY)\n",
    "j = 0\n",
    "while True:\n",
    "    j += 1\n",
    "    ret, frame2 = cap.read()\n",
    "    if not ret:\n",
    "        break\n",
    "    next = cv2.cvtColor(frame2, cv2.COLOR_BGR2GRAY)\n",
    "    # Calculate Optical Flow\n",
    "    flow = cv2.calcOpticalFlowFarneback(prvs, next, None, 0.5, 3, 15, 3, 5, 1.2, 0)\n",
    "    # Compute magnitude and angle of the flow\n",
    "    mag, ang = cv2.cartToPolar(flow[..., 0], flow[..., 1])\n",
    "    # Create motion mask\n",
    "    thresh = 3  # Set threshold for motion detection\n",
    "    motion_mask = cv2.threshold(mag, thresh, 255, cv2.THRESH_BINARY)[1]\n",
    "    # Segment mask based on connected components\n",
    "    num_labels, labels, stats, centroids = cv2.connectedComponentsWithStats(np.uint8(motion_mask), connectivity=8)\n",
    "    min_area = 50  # Minimum area for connected components\n",
    "    # Draw bounding boxes around components\n",
    "    for i in range(1, num_labels):\n",
    "        x, y, w, h, area = stats[i]\n",
    "        if area > min_area:\n",
    "            cv2.rectangle(frame2, (x, y), (x + w, y + h), (0, 255, 0), 2)\n",
    "    # Display the result\n",
    "    out.write(frame2)\n",
    "    # cv2.imshow('Segmented Frame', frame2)\n",
    "    # Update previous frame\n",
    "    print(f'\\rProgress: {j}', end='')\n",
    "    prvs = next\n",
    "    # Break the loop if 'q' is pressed\n",
    "    if cv2.waitKey(1) & 0xFF == ord('q'):\n",
    "        break\n",
    "cap.release()\n",
    "out.release()\n",
    "cv2.destroyAllWindows()"
   ],
   "metadata": {
    "collapsed": false
   }
  },
  {
   "cell_type": "markdown",
   "source": [
    "segment each worm without optical flow processing"
   ],
   "metadata": {
    "collapsed": false
   }
  },
  {
   "cell_type": "code",
   "execution_count": 10,
   "outputs": [
    {
     "name": "stdout",
     "output_type": "stream",
     "text": [
      "Progress: 1201"
     ]
    }
   ],
   "source": [
    "cap = cv2.VideoCapture('pre_dense.mp4')\n",
    "frame_width = int(cap.get(cv2.CAP_PROP_FRAME_WIDTH))\n",
    "frame_height = int(cap.get(cv2.CAP_PROP_FRAME_HEIGHT))\n",
    "frame_rate = cap.get(cv2.CAP_PROP_FPS)\n",
    "fourcc = cv2.VideoWriter_fourcc(*'mp4v')  # Try 'XVID' if 'mp4v' does not work\n",
    "out = cv2.VideoWriter('predense_degmented.mp4', fourcc, frame_rate, (frame_width, frame_height), True)\n",
    "# Read the first frame\n",
    "ret, frame1 = cap.read()\n",
    "if not ret:\n",
    "    print(\"Failed to read video\")\n",
    "    cap.release()\n",
    "prvs = cv2.cvtColor(frame1, cv2.COLOR_BGR2GRAY)\n",
    "j = 0\n",
    "while True:\n",
    "    j += 1\n",
    "    ret, frame2 = cap.read()\n",
    "    if not ret:\n",
    "        break\n",
    "    next = cv2.cvtColor(frame2, cv2.COLOR_BGR2GRAY)\n",
    "    # Calculate Optical Flow\n",
    "    flow = cv2.calcOpticalFlowFarneback(prvs, next, None, 0.5, 3, 15, 3, 5, 1.2, 0)\n",
    "    # Compute magnitude and angle of the flow\n",
    "    mag, ang = cv2.cartToPolar(flow[..., 0], flow[..., 1])\n",
    "    # Create motion mask\n",
    "    thresh = 3  # Set threshold for motion detection\n",
    "    motion_mask = cv2.threshold(mag, thresh, 255, cv2.THRESH_BINARY)[1]\n",
    "    # Segment mask based on connected components\n",
    "    num_labels, labels, stats, centroids = cv2.connectedComponentsWithStats(np.uint8(motion_mask), connectivity=8)\n",
    "    min_area = 50  # Minimum area for connected components\n",
    "    # Draw bounding boxes around components\n",
    "    for i in range(1, num_labels):\n",
    "        x, y, w, h, area = stats[i]\n",
    "        if area > min_area:\n",
    "            cv2.rectangle(frame2, (x, y), (x + w, y + h), (0, 255, 0), 2)\n",
    "    # Display the result\n",
    "    out.write(frame2)\n",
    "    # cv2.imshow('Segmented Frame', frame2)\n",
    "    # Update previous frame\n",
    "    print(f'\\rProgress: {j}', end='')\n",
    "    prvs = next\n",
    "    # Break the loop if 'q' is pressed\n",
    "    if cv2.waitKey(1) & 0xFF == ord('q'):\n",
    "        break\n",
    "cap.release()\n",
    "out.release()\n",
    "cv2.destroyAllWindows()"
   ],
   "metadata": {
    "collapsed": false
   }
  },
  {
   "cell_type": "markdown",
   "source": [
    "Define a function for video to image and use it"
   ],
   "metadata": {
    "collapsed": false
   }
  },
  {
   "cell_type": "code",
   "execution_count": 13,
   "outputs": [],
   "source": [
    "# Define a function to extract and save frames from a video file\n",
    "current_location = os.getcwd();\n",
    "output_folder = current_location + '/raw_images'\n",
    "video_path = current_location + '/sample.avi'\n",
    "\n",
    "def video2image(video_path, output_folder):\n",
    "    # Create the output folder if it doesn't exist\n",
    "    if not os.path.exists(output_folder):\n",
    "        os.makedirs(output_folder)\n",
    "\n",
    "    # Load the video\n",
    "    video = cv2.VideoCapture(video_path)\n",
    "\n",
    "    # Initialize frame count\n",
    "    count = 0\n",
    "\n",
    "    # Iterate through video frames\n",
    "    while True:\n",
    "        # Read a frame\n",
    "        success, frame = video.read()\n",
    "        # Break if no frame is read (end of video)\n",
    "        if not success:\n",
    "            break\n",
    "        # Save the frame as an image\n",
    "        cv2.imwrite(os.path.join(output_folder, f\"frame_{count}.jpg\"), frame)\n",
    "        # Increment frame count\n",
    "        count += 1\n",
    "\n",
    "    # Release the video object\n",
    "    video.release()\n",
    "\n",
    "    return count"
   ],
   "metadata": {
    "collapsed": false
   }
  },
  {
   "cell_type": "markdown",
   "source": [
    "Save the video into images"
   ],
   "metadata": {
    "collapsed": false
   }
  },
  {
   "cell_type": "code",
   "execution_count": 14,
   "outputs": [
    {
     "ename": "KeyboardInterrupt",
     "evalue": "",
     "output_type": "error",
     "traceback": [
      "\u001B[0;31m---------------------------------------------------------------------------\u001B[0m",
      "\u001B[0;31mKeyboardInterrupt\u001B[0m                         Traceback (most recent call last)",
      "Cell \u001B[0;32mIn[14], line 1\u001B[0m\n\u001B[0;32m----> 1\u001B[0m frame_count \u001B[38;5;241m=\u001B[39m video2image(video_path, output_folder)\n",
      "Cell \u001B[0;32mIn[13], line 25\u001B[0m, in \u001B[0;36mvideo2image\u001B[0;34m(video_path, output_folder)\u001B[0m\n\u001B[1;32m     23\u001B[0m     \u001B[38;5;28;01mbreak\u001B[39;00m\n\u001B[1;32m     24\u001B[0m \u001B[38;5;66;03m# Save the frame as an image\u001B[39;00m\n\u001B[0;32m---> 25\u001B[0m cv2\u001B[38;5;241m.\u001B[39mimwrite(os\u001B[38;5;241m.\u001B[39mpath\u001B[38;5;241m.\u001B[39mjoin(output_folder, \u001B[38;5;124mf\u001B[39m\u001B[38;5;124m\"\u001B[39m\u001B[38;5;124mframe_\u001B[39m\u001B[38;5;132;01m{\u001B[39;00mcount\u001B[38;5;132;01m}\u001B[39;00m\u001B[38;5;124m.jpg\u001B[39m\u001B[38;5;124m\"\u001B[39m), frame)\n\u001B[1;32m     26\u001B[0m \u001B[38;5;66;03m# Increment frame count\u001B[39;00m\n\u001B[1;32m     27\u001B[0m count \u001B[38;5;241m+\u001B[39m\u001B[38;5;241m=\u001B[39m \u001B[38;5;241m1\u001B[39m\n",
      "\u001B[0;31mKeyboardInterrupt\u001B[0m: "
     ]
    }
   ],
   "source": [
    "frame_count = video2image(video_path, output_folder)"
   ],
   "metadata": {
    "collapsed": false
   }
  },
  {
   "cell_type": "markdown",
   "source": [
    "Design a crop function that remove the dish"
   ],
   "metadata": {
    "collapsed": false
   }
  },
  {
   "cell_type": "code",
   "execution_count": 16,
   "outputs": [],
   "source": [
    "def crop_circle(image_path):\n",
    "    # Read the image\n",
    "    image = cv2.imread(image_path)\n",
    "    # Create a mask with the same dimensions as the image\n",
    "    mask = np.zeros_like(image)\n",
    "    rows, cols, _ = mask.shape\n",
    "    # Compute the center and radius of the circle\n",
    "    center = (cols // 2, rows // 2)\n",
    "    radius = min(center[0], center[1], rows - center[1], cols - center[0])\n",
    "    # Draw the circular mask\n",
    "    cv2.circle(mask, center, radius, (255, 255, 255), -1)\n",
    "    # Apply the mask\n",
    "    circular_image = cv2.bitwise_and(image, mask)\n",
    "    # Optionally, you can remove the black background\n",
    "    masked_data = cv2.cvtColor(circular_image, cv2.COLOR_BGR2BGRA)\n",
    "    masked_data[mask == 0] = [0, 0, 0, 0]\n",
    "    # Save or display the result\n",
    "    cv2.imwrite('circular_image.png', masked_data)\n",
    "    # cv2.imshow('Circular Image', masked_data)\n",
    "    # cv2.waitKey(0)\n",
    "    # cv2.destroyAllWindows()"
   ],
   "metadata": {
    "collapsed": false
   }
  },
  {
   "cell_type": "markdown",
   "source": [
    "threshold the original video and set the threshold"
   ],
   "metadata": {
    "collapsed": false
   }
  },
  {
   "cell_type": "code",
   "execution_count": 20,
   "outputs": [],
   "source": [
    "thresh = 127"
   ],
   "metadata": {
    "collapsed": false
   }
  },
  {
   "cell_type": "markdown",
   "source": [
    "apply to original video"
   ],
   "metadata": {
    "collapsed": false
   }
  },
  {
   "cell_type": "code",
   "execution_count": 21,
   "outputs": [
    {
     "name": "stdout",
     "output_type": "stream",
     "text": [
      "Progress: 1202"
     ]
    }
   ],
   "source": [
    "# Load the video\n",
    "cap = cv2.VideoCapture('sample.avi')\n",
    "frame_width = int(cap.get(cv2.CAP_PROP_FRAME_WIDTH))\n",
    "frame_height = int(cap.get(cv2.CAP_PROP_FRAME_HEIGHT))\n",
    "frame_rate = cap.get(cv2.CAP_PROP_FPS)\n",
    "fourcc = cv2.VideoWriter_fourcc(*'mp4v')  # Try 'XVID' if 'mp4v' does not work\n",
    "out = cv2.VideoWriter('threshold_original.mp4', fourcc, frame_rate, (frame_width, frame_height), True)\n",
    "# Check if video opened successfully\n",
    "if not cap.isOpened():\n",
    "    print(\"Error opening video file\")\n",
    "# Read until video is completed\n",
    "j = 0\n",
    "while cap.isOpened():\n",
    "    j += 1\n",
    "    # Capture frame-by-frame\n",
    "    ret, frame = cap.read()\n",
    "    if ret:\n",
    "        # Convert to grayscale\n",
    "        # Apply threshold for each channel\n",
    "        _, red_channel = cv2.threshold(frame[:,:,0], thresh, 255, cv2.THRESH_BINARY)\n",
    "        _, green_channel = cv2.threshold(frame[:,:,1], thresh, 255, cv2.THRESH_BINARY)\n",
    "        _, blue_channel = cv2.threshold(frame[:,:,2], thresh, 255, cv2.THRESH_BINARY)\n",
    "    # Combine the channels back\n",
    "        thresh_frame = cv2.merge([red_channel, green_channel, blue_channel])\n",
    "        # Display the resulting frame\n",
    "        out.write(thresh_frame)\n",
    "        # Press Q on keyboard to exit\n",
    "        if cv2.waitKey(25) & 0xFF == ord('q'):\n",
    "            break\n",
    "        print(f'\\rProgress: {j}', end='')\n",
    "    else:\n",
    "        break\n",
    "# When everything done, release the video capture object\n",
    "cap.release()\n",
    "out.release()\n",
    "cv2.destroyAllWindows()"
   ],
   "metadata": {
    "collapsed": false
   }
  },
  {
   "cell_type": "markdown",
   "source": [
    "apply erode and dilate"
   ],
   "metadata": {
    "collapsed": false
   }
  },
  {
   "cell_type": "code",
   "execution_count": 26,
   "outputs": [
    {
     "name": "stdout",
     "output_type": "stream",
     "text": [
      "Progress: 1202"
     ]
    }
   ],
   "source": [
    "# Load the video\n",
    "cap = cv2.VideoCapture('pre_dense.mp4')\n",
    "kernel = cv2.getStructuringElement(cv2.MORPH_RECT, (7, 7))\n",
    "frame_width = int(cap.get(cv2.CAP_PROP_FRAME_WIDTH))\n",
    "frame_height = int(cap.get(cv2.CAP_PROP_FRAME_HEIGHT))\n",
    "frame_rate = cap.get(cv2.CAP_PROP_FPS)\n",
    "fourcc = cv2.VideoWriter_fourcc(*'mp4v')  # Try 'XVID' if 'mp4v' does not work\n",
    "out = cv2.VideoWriter('pre_dense_erode_dilate.mp4', fourcc, frame_rate, (frame_width, frame_height), True)\n",
    "j = 0\n",
    "while True:\n",
    "    j += 1\n",
    "    # Read each frame\n",
    "    ret, frame = cap.read()\n",
    "    if not ret:\n",
    "        break\n",
    "    # Apply erosion and then dilation\n",
    "    eroded_frame = cv2.erode(frame, kernel, iterations=1)\n",
    "    dilated_frame = cv2.dilate(eroded_frame, kernel, iterations=1)\n",
    "    # Display the processed frame\n",
    "    out.write(dilated_frame)\n",
    "    print(f'\\rProgress: {j}', end='')\n",
    "    # Break the loop with a key press\n",
    "    if cv2.waitKey(1) & 0xFF == ord('q'):\n",
    "        break\n",
    "\n",
    "# Release resources\n",
    "cap.release()\n",
    "cv2.destroyAllWindows()\n",
    "out.release()"
   ],
   "metadata": {
    "collapsed": false
   }
  },
  {
   "cell_type": "markdown",
   "source": [
    "motion segmentation using connectivity after erode and dilate"
   ],
   "metadata": {
    "collapsed": false
   }
  },
  {
   "cell_type": "code",
   "execution_count": 36,
   "outputs": [
    {
     "name": "stdout",
     "output_type": "stream",
     "text": [
      "Progress: 412"
     ]
    },
    {
     "ename": "KeyboardInterrupt",
     "evalue": "",
     "output_type": "error",
     "traceback": [
      "\u001B[0;31m---------------------------------------------------------------------------\u001B[0m",
      "\u001B[0;31mKeyboardInterrupt\u001B[0m                         Traceback (most recent call last)",
      "Cell \u001B[0;32mIn[36], line 38\u001B[0m\n\u001B[1;32m     36\u001B[0m cv2\u001B[38;5;241m.\u001B[39mimshow(\u001B[38;5;124m'\u001B[39m\u001B[38;5;124mSegmented Frame\u001B[39m\u001B[38;5;124m'\u001B[39m, frame2)\n\u001B[1;32m     37\u001B[0m \u001B[38;5;66;03m# Display the result\u001B[39;00m\n\u001B[0;32m---> 38\u001B[0m out\u001B[38;5;241m.\u001B[39mwrite(frame2)\n\u001B[1;32m     39\u001B[0m \u001B[38;5;66;03m# Update previous frame\u001B[39;00m\n\u001B[1;32m     40\u001B[0m \u001B[38;5;28mprint\u001B[39m(\u001B[38;5;124mf\u001B[39m\u001B[38;5;124m'\u001B[39m\u001B[38;5;130;01m\\r\u001B[39;00m\u001B[38;5;124mProgress: \u001B[39m\u001B[38;5;132;01m{\u001B[39;00mj\u001B[38;5;132;01m}\u001B[39;00m\u001B[38;5;124m'\u001B[39m, end\u001B[38;5;241m=\u001B[39m\u001B[38;5;124m'\u001B[39m\u001B[38;5;124m'\u001B[39m)\n",
      "\u001B[0;31mKeyboardInterrupt\u001B[0m: "
     ]
    }
   ],
   "source": [
    "cap = cv2.VideoCapture('pre_dense_erode_dilate.mp4')\n",
    "frame_width = int(cap.get(cv2.CAP_PROP_FRAME_WIDTH))\n",
    "frame_height = int(cap.get(cv2.CAP_PROP_FRAME_HEIGHT))\n",
    "frame_rate = cap.get(cv2.CAP_PROP_FPS)\n",
    "fourcc = cv2.VideoWriter_fourcc(*'mp4v')\n",
    "out = cv2.VideoWriter('pre_dense_erode_dilate_segmented.mp4', fourcc, frame_rate, (frame_width, frame_height), True)\n",
    "# Read the first frame\n",
    "ret, frame1 = cap.read()\n",
    "if not ret:\n",
    "    print(\"Failed to read video\")\n",
    "    cap.release()\n",
    "prvs = cv2.cvtColor(frame1, cv2.COLOR_BGR2GRAY)\n",
    "j = 0\n",
    "while True:\n",
    "    j += 1\n",
    "    ret, frame2 = cap.read()\n",
    "    if not ret:\n",
    "        break\n",
    "    next = cv2.cvtColor(frame2, cv2.COLOR_BGR2GRAY)\n",
    "    # Calculate Optical Flow\n",
    "    flow = cv2.calcOpticalFlowFarneback(prvs, next, None, 0.5, 3, 15, 3, 5, 1.2, 0)\n",
    "    # Compute magnitude and angle of the flow\n",
    "    mag, ang = cv2.cartToPolar(flow[..., 0], flow[..., 1])\n",
    "    # Create motion mask\n",
    "    thresh = 1  # Set threshold for motion detection\n",
    "    motion_mask = cv2.threshold(mag, thresh, 255, cv2.THRESH_BINARY)[1]\n",
    "    cv2.imshow('Segmented Frame', motion_mask)\n",
    "    # Segment mask based on connected components\n",
    "    num_labels, labels, stats, centroids = cv2.connectedComponentsWithStats(np.uint8(motion_mask), connectivity=8)\n",
    "    min_area = 300  # Minimum area for connected components\n",
    "    # Draw bounding boxes around components\n",
    "    for i in range(1, num_labels):\n",
    "        x, y, w, h, area = stats[i]\n",
    "        if area > min_area:\n",
    "            cv2.rectangle(frame2, (x, y), (x + w, y + h), (0, 255, 0), 2)\n",
    "    # cv2.imshow('Segmented Frame', frame2)\n",
    "    # Display the result\n",
    "    out.write(frame2)\n",
    "    # Update previous frame\n",
    "    print(f'\\rProgress: {j}', end='')\n",
    "    prvs = next\n",
    "    # Break the loop if 'q' is pressed\n",
    "    if cv2.waitKey(1) & 0xFF == ord('q'):\n",
    "        break\n",
    "cap.release()\n",
    "out.release()\n",
    "cv2.destroyAllWindows()"
   ],
   "metadata": {
    "collapsed": false
   }
  },
  {
   "cell_type": "markdown",
   "source": [
    "erode and dilate also motion mask, save motion mask actually"
   ],
   "metadata": {
    "collapsed": false
   }
  },
  {
   "cell_type": "code",
   "execution_count": 65,
   "outputs": [
    {
     "name": "stdout",
     "output_type": "stream",
     "text": [
      "Progress: 1201"
     ]
    }
   ],
   "source": [
    "cap = cv2.VideoCapture('pre_dense_erode_dilate.mp4')\n",
    "frame_width = int(cap.get(cv2.CAP_PROP_FRAME_WIDTH))\n",
    "frame_height = int(cap.get(cv2.CAP_PROP_FRAME_HEIGHT))\n",
    "frame_rate = cap.get(cv2.CAP_PROP_FPS)\n",
    "erode_kernel = cv2.getStructuringElement(cv2.MORPH_RECT, (2, 2))\n",
    "dilate_kernel = cv2.getStructuringElement(cv2.MORPH_RECT, (15, 15))\n",
    "fourcc = cv2.VideoWriter_fourcc(*'mp4v')\n",
    "out = cv2.VideoWriter('motion_mask_segmented.mp4', fourcc, frame_rate, (frame_width, frame_height), True)\n",
    "# Read the first frame\n",
    "ret, frame1 = cap.read()\n",
    "if not ret:\n",
    "    print(\"Failed to read video\")\n",
    "    cap.release()\n",
    "prvs = cv2.cvtColor(frame1, cv2.COLOR_BGR2GRAY)\n",
    "j = 0\n",
    "while True:\n",
    "    j += 1\n",
    "    ret, frame2 = cap.read()\n",
    "    if not ret:\n",
    "        break\n",
    "    next = cv2.cvtColor(frame2, cv2.COLOR_BGR2GRAY)\n",
    "    # Calculate Optical Flow\n",
    "    flow = cv2.calcOpticalFlowFarneback(prvs, next, None, 0.5, 3, 15, 3, 5, 1.2, 0)\n",
    "    # Compute magnitude and angle of the flow\n",
    "    mag, ang = cv2.cartToPolar(flow[..., 0], flow[..., 1])\n",
    "    # Create motion mask\n",
    "    thresh = 1  # Set threshold for motion detection\n",
    "    motion_mask = cv2.threshold(mag, thresh, 255, cv2.THRESH_BINARY)[1]\n",
    "    eroded_frame = cv2.erode(motion_mask, erode_kernel, iterations=1)\n",
    "    dilated_frame = cv2.dilate(eroded_frame, dilate_kernel, iterations=1)\n",
    "    # cv2.imshow('Segmented Frame', dilated_frame)\n",
    "    # Segment mask based on connected components\n",
    "    num_labels, labels, stats, centroids = cv2.connectedComponentsWithStats(np.uint8(dilated_frame), connectivity=8)\n",
    "    min_area = 300  # Minimum area for connected components\n",
    "    # Draw bounding boxes around components\n",
    "    for i in range(1, num_labels):\n",
    "        x, y, w, h, area = stats[i]\n",
    "        if area > min_area:\n",
    "            cv2.rectangle(frame2, (x, y), (x + w, y + h), (0, 255, 0), 2)\n",
    "    for i in range(1, num_labels):\n",
    "        x, y, w, h, area = stats[i]\n",
    "        if area > min_area:\n",
    "            cv2.rectangle(dilated_frame, (x, y), (x + w, y + h), (255, 255, 255), 2)\n",
    "    save_frame = cv2.normalize(dilated_frame, None, alpha=0, beta=255, norm_type=cv2.NORM_MINMAX, dtype=cv2.CV_8U)\n",
    "    # cv2.imshow('Segmented Frame', dilated_frame)\n",
    "    # cv2.imshow('Segmented Frame', frame2)\n",
    "    # Display the result\n",
    "    rgb_frame = cv2.cvtColor(save_frame, cv2.COLOR_GRAY2RGB)\n",
    "    # inspect_given_a_frame(frame2)\n",
    "    # inspect_given_a_frame(rgb_frame)\n",
    "    out.write(save_frame)\n",
    "    # Update previous frame\n",
    "    print(f'\\rProgress: {j}', end='')\n",
    "    prvs = next\n",
    "    # Break the loop if 'q' is pressed\n",
    "    if cv2.waitKey(1) & 0xFF == ord('q'):\n",
    "        break\n",
    "cap.release()\n",
    "out.release()\n",
    "cv2.destroyAllWindows()"
   ],
   "metadata": {
    "collapsed": false
   }
  },
  {
   "cell_type": "code",
   "execution_count": 70,
   "outputs": [
    {
     "name": "stdout",
     "output_type": "stream",
     "text": [
      "Progress: 1201"
     ]
    }
   ],
   "source": [
    "cap = cv2.VideoCapture('pre_dense_erode_dilate.mp4')\n",
    "frame_width = int(cap.get(cv2.CAP_PROP_FRAME_WIDTH))\n",
    "frame_height = int(cap.get(cv2.CAP_PROP_FRAME_HEIGHT))\n",
    "frame_rate = cap.get(cv2.CAP_PROP_FPS)\n",
    "erode_kernel = cv2.getStructuringElement(cv2.MORPH_RECT, (2, 2))\n",
    "dilate_kernel = cv2.getStructuringElement(cv2.MORPH_RECT, (15, 15))\n",
    "fourcc = cv2.VideoWriter_fourcc(*'mp4v')\n",
    "out = cv2.VideoWriter('motion_mask_segmented_v2.mp4', fourcc, frame_rate, (frame_width, frame_height), True)\n",
    "# Read the first frame\n",
    "ret, frame1 = cap.read()\n",
    "if not ret:\n",
    "    print(\"Failed to read video\")\n",
    "    cap.release()\n",
    "prvs = cv2.cvtColor(frame1, cv2.COLOR_BGR2GRAY)\n",
    "j = 0\n",
    "while True:\n",
    "    j += 1\n",
    "    ret, frame2 = cap.read()\n",
    "    if not ret:\n",
    "        break\n",
    "    next = cv2.cvtColor(frame2, cv2.COLOR_BGR2GRAY)\n",
    "    # Calculate Optical Flow\n",
    "    flow = cv2.calcOpticalFlowFarneback(prvs, next, None, 0.5, 3, 15, 3, 5, 1.2, 0)\n",
    "    # Compute magnitude and angle of the flow\n",
    "    mag, ang = cv2.cartToPolar(flow[..., 0], flow[..., 1])\n",
    "    # Create motion mask\n",
    "    thresh = 1  # Set threshold for motion detection\n",
    "    motion_mask = cv2.threshold(mag, thresh, 255, cv2.THRESH_BINARY)[1]\n",
    "    eroded_frame = cv2.erode(motion_mask, erode_kernel, iterations=1)\n",
    "    dilated_frame = cv2.dilate(eroded_frame, dilate_kernel, iterations=1)\n",
    "    # cv2.imshow('Segmented Frame', dilated_frame)\n",
    "    # Segment mask based on connected components\n",
    "    num_labels, labels, stats, centroids = cv2.connectedComponentsWithStats(np.uint8(dilated_frame), connectivity=8)\n",
    "    min_area = 300  # Minimum area for connected components\n",
    "    # Draw bounding boxes around components\n",
    "    for i in range(1, num_labels):\n",
    "        x, y, w, h, area = stats[i]\n",
    "        if area > min_area:\n",
    "            cv2.rectangle(frame2, (x, y), (x + w, y + h), (0, 255, 0), 2)\n",
    "    for i in range(1, num_labels):\n",
    "        x, y, w, h, area = stats[i]\n",
    "        if area > min_area:\n",
    "            cv2.rectangle(dilated_frame, (x, y), (x + w, y + h), (255, 255, 255), 2)\n",
    "    t_frame = cv2.normalize(dilated_frame, None, alpha=0, beta=255, norm_type=cv2.NORM_MINMAX, dtype=cv2.CV_8U)\n",
    "    # cv2.imshow('Segmented Frame', dilated_frame)\n",
    "    # cv2.imshow('Segmented Frame', frame2)\n",
    "    # Display the result\n",
    "    rgb_frame = cv2.cvtColor(t_frame, cv2.COLOR_GRAY2RGB)\n",
    "    # inspect_given_a_frame(frame2)\n",
    "    # inspect_given_a_frame(rgb_frame)\n",
    "    # inspect_given_a_frame(rgb_frame)\n",
    "    out.write(rgb_frame)\n",
    "    # Update previous frame\n",
    "    print(f'\\rProgress: {j}', end='')\n",
    "    prvs = next\n",
    "    # Break the loop if 'q' is pressed\n",
    "    if cv2.waitKey(1) & 0xFF == ord('q'):\n",
    "        break\n",
    "cap.release()\n",
    "out.release()\n",
    "cv2.destroyAllWindows()"
   ],
   "metadata": {
    "collapsed": false
   }
  },
  {
   "cell_type": "markdown",
   "source": [
    "dilate even more for segmentation"
   ],
   "metadata": {
    "collapsed": false
   }
  },
  {
   "cell_type": "code",
   "execution_count": 76,
   "outputs": [
    {
     "name": "stdout",
     "output_type": "stream",
     "text": [
      "Progress: 1201"
     ]
    }
   ],
   "source": [
    "cap = cv2.VideoCapture('pre_dense_erode_dilate.mp4')\n",
    "frame_width = int(cap.get(cv2.CAP_PROP_FRAME_WIDTH))\n",
    "frame_height = int(cap.get(cv2.CAP_PROP_FRAME_HEIGHT))\n",
    "frame_rate = cap.get(cv2.CAP_PROP_FPS)\n",
    "erode_kernel = cv2.getStructuringElement(cv2.MORPH_RECT, (2, 2))\n",
    "dilate_kernel = cv2.getStructuringElement(cv2.MORPH_RECT, (45, 45))\n",
    "fourcc = cv2.VideoWriter_fourcc(*'mp4v')\n",
    "out = cv2.VideoWriter('dilate_even_more.mp4', fourcc, frame_rate, (frame_width, frame_height), True)\n",
    "# Read the first frame\n",
    "ret, frame1 = cap.read()\n",
    "if not ret:\n",
    "    print(\"Failed to read video\")\n",
    "    cap.release()\n",
    "prvs = cv2.cvtColor(frame1, cv2.COLOR_BGR2GRAY)\n",
    "j = 0\n",
    "while True:\n",
    "    j += 1\n",
    "    ret, frame2 = cap.read()\n",
    "    if not ret:\n",
    "        break\n",
    "    next = cv2.cvtColor(frame2, cv2.COLOR_BGR2GRAY)\n",
    "    # Calculate Optical Flow\n",
    "    flow = cv2.calcOpticalFlowFarneback(prvs, next, None, 0.5, 3, 15, 3, 5, 1.2, 0)\n",
    "    # Compute magnitude and angle of the flow\n",
    "    mag, ang = cv2.cartToPolar(flow[..., 0], flow[..., 1])\n",
    "    # Create motion mask\n",
    "    thresh = 1  # Set threshold for motion detection\n",
    "    motion_mask = cv2.threshold(mag, thresh, 255, cv2.THRESH_BINARY)[1]\n",
    "    eroded_frame = cv2.erode(motion_mask, erode_kernel, iterations=1)\n",
    "    dilated_frame = cv2.dilate(eroded_frame, dilate_kernel, iterations=1)\n",
    "    num_labels, labels, stats, centroids = cv2.connectedComponentsWithStats(np.uint8(dilated_frame), connectivity=8)\n",
    "    # print('Number of labels', num_labels, '\\n')\n",
    "    # print('labels', labels, '\\n')\n",
    "    # print('stats', stats, '\\n')\n",
    "    # print('centroids', centroids, '\\n')\n",
    "    min_area = 300\n",
    "    for i in range(1, num_labels):\n",
    "        x, y, w, h, area = stats[i]\n",
    "        if area > min_area:\n",
    "            cv2.rectangle(frame2, (x, y), (x + w, y + h), (0, 255, 0), 2)\n",
    "    for i in range(1, num_labels):\n",
    "        x, y, w, h, area = stats[i]\n",
    "        if area > min_area:\n",
    "            cv2.rectangle(dilated_frame, (x, y), (x + w, y + h), (255, 255, 255), 2)\n",
    "    temp_frame = cv2.normalize(dilated_frame, None, alpha=0, beta=255, norm_type=cv2.NORM_MINMAX, dtype=cv2.CV_8U)\n",
    "    rgb_frame = cv2.cvtColor(temp_frame, cv2.COLOR_GRAY2RGB)\n",
    "    cv2.imshow('Segmented Frame', rgb_frame)\n",
    "    out.write(rgb_frame)\n",
    "    print(f'\\rProgress: {j}', end='')\n",
    "    prvs = next\n",
    "    if cv2.waitKey(1) & 0xFF == ord('q'):\n",
    "        break\n",
    "cap.release()\n",
    "out.release()\n",
    "cv2.destroyAllWindows()"
   ],
   "metadata": {
    "collapsed": false
   }
  },
  {
   "cell_type": "markdown",
   "source": [
    "## Segmentation"
   ],
   "metadata": {
    "collapsed": false
   }
  },
  {
   "cell_type": "markdown",
   "source": [
    "Initialize Paths"
   ],
   "metadata": {
    "collapsed": false
   }
  },
  {
   "cell_type": "code",
   "execution_count": 77,
   "outputs": [],
   "source": [
    "current_location = os.getcwd();\n",
    "output_folder = current_location + '/worm_segmentation'\n",
    "video_path = current_location + '/sample.avi'"
   ],
   "metadata": {
    "collapsed": false
   }
  },
  {
   "cell_type": "markdown",
   "source": [
    "Initialize input videos and output videos"
   ],
   "metadata": {
    "collapsed": false
   }
  },
  {
   "cell_type": "code",
   "execution_count": 79,
   "outputs": [],
   "source": [
    "motion_mask_cap = cv2.VideoCapture('pre_dense_erode_dilate.mp4')\n",
    "original_video_cap = cv2.VideoCapture('sample.avi')\n",
    "frame_width = int(cap.get(cv2.CAP_PROP_FRAME_WIDTH))\n",
    "frame_height = int(cap.get(cv2.CAP_PROP_FRAME_HEIGHT))\n",
    "frame_rate = cap.get(cv2.CAP_PROP_FPS)\n",
    "erode_kernel = cv2.getStructuringElement(cv2.MORPH_RECT, (2, 2))\n",
    "dilate_kernel = cv2.getStructuringElement(cv2.MORPH_RECT, (45, 45))\n",
    "f_worm_1 = cv2.VideoWriter_fourcc(*'mp4v')\n",
    "f_worm_2 = cv2.VideoWriter_fourcc(*'mp4v')\n",
    "f_worm_3 = cv2.VideoWriter_fourcc(*'mp4v')\n",
    "f_worm_4 = cv2.VideoWriter_fourcc(*'mp4v')\n",
    "f_worm_5 = cv2.VideoWriter_fourcc(*'mp4v')\n",
    "f_worm_6 = cv2.VideoWriter_fourcc(*'mp4v')\n",
    "f_worm_7 = cv2.VideoWriter_fourcc(*'mp4v')\n",
    "f_worm_8 = cv2.VideoWriter_fourcc(*'mp4v')\n",
    "f_worm_9 = cv2.VideoWriter_fourcc(*'mp4v')\n",
    "f_worm_10 = cv2.VideoWriter_fourcc(*'mp4v')\n",
    "worm_1_out = cv2.VideoWriter(output_folder + '/worm_1_out.mp4', f_worm_1, frame_rate, (frame_width, frame_height), True)\n",
    "worm_2_out = cv2.VideoWriter(output_folder + '/worm_2_out.mp4', f_worm_2, frame_rate, (frame_width, frame_height), True)\n",
    "worm_3_out = cv2.VideoWriter(output_folder + '/worm_3_out.mp4', f_worm_3, frame_rate, (frame_width, frame_height), True)\n",
    "worm_4_out = cv2.VideoWriter(output_folder + '/worm_4_out.mp4', f_worm_4, frame_rate, (frame_width, frame_height), True)\n",
    "worm_5_out = cv2.VideoWriter(output_folder + '/worm_5_out.mp4', f_worm_5, frame_rate, (frame_width, frame_height), True)\n",
    "worm_6_out = cv2.VideoWriter(output_folder + '/worm_6_out.mp4', f_worm_6, frame_rate, (frame_width, frame_height), True)\n",
    "worm_7_out = cv2.VideoWriter(output_folder + '/worm_7_out.mp4', f_worm_7, frame_rate, (frame_width, frame_height), True)\n",
    "worm_8_out = cv2.VideoWriter(output_folder + '/worm_8_out.mp4', f_worm_8, frame_rate, (frame_width, frame_height), True)\n",
    "worm_9_out = cv2.VideoWriter(output_folder + '/worm_9_out.mp4', f_worm_9, frame_rate, (frame_width, frame_height), True)\n",
    "worm_10_out = cv2.VideoWriter(output_folder + '/worm_10_out.mp4', f_worm_10, frame_rate, (frame_width, frame_height), True)"
   ],
   "metadata": {
    "collapsed": false
   }
  },
  {
   "cell_type": "markdown",
   "source": [
    "clean up make sure all number is good"
   ],
   "metadata": {
    "collapsed": false
   }
  },
  {
   "cell_type": "code",
   "execution_count": 85,
   "outputs": [
    {
     "name": "stdout",
     "output_type": "stream",
     "text": [
      "Total number of frames in the motion mask: 1202\n",
      "Total number of frames in the original video: 1202\n",
      "to process the video need to iterate over: 1202\n"
     ]
    }
   ],
   "source": [
    "total_it_number = 0\n",
    "\n",
    "if not motion_mask_cap.isOpened():\n",
    "    print(\"Error: Could not open motion mask.\")\n",
    "else:\n",
    "    # Get the total number of frames in the video\n",
    "    total_it_number = int(motion_mask_cap.get(cv2.CAP_PROP_FRAME_COUNT))\n",
    "    print(f\"Total number of frames in the motion mask: {total_it_number}\")\n",
    "\n",
    "if not original_video_cap.isOpened():\n",
    "    print(\"Error: Could not open motion mask.\")\n",
    "else:\n",
    "    # Get the total number of frames in the video\n",
    "    total_it_number = int(original_video_cap.get(cv2.CAP_PROP_FRAME_COUNT))\n",
    "    print(f\"Total number of frames in the original video: {total_it_number}\")\n",
    "\n",
    "print(f\"to process the video need to iterate over: {total_it_number}\")"
   ],
   "metadata": {
    "collapsed": false
   }
  },
  {
   "cell_type": "code",
   "execution_count": 103,
   "outputs": [
    {
     "name": "stdout",
     "output_type": "stream",
     "text": [
      "motion frame read\n",
      "Shape of Frame (2160, 2160, 3)\n",
      "First Row [[0 0 0]\n",
      " [0 0 0]\n",
      " [0 0 0]\n",
      " ...\n",
      " [0 0 0]\n",
      " [0 0 0]\n",
      " [0 0 0]]\n",
      "Frame Width: 2160\n",
      "Frame Height: 2160\n",
      "Color Channels: 1\n",
      "Data Type: uint8\n",
      "Aspect Ratio: 1.0\n",
      "Color Space: Grayscale\n",
      "Shape of Frame (2160, 2160)\n",
      "First Row (2160,)\n"
     ]
    }
   ],
   "source": [
    "# Read the first motion\n",
    "ret, motion_frame_init = motion_mask_cap.read()\n",
    "if not ret:\n",
    "    print(\"Failed to read the motion ask\")\n",
    "    cap.release()\n",
    "else:\n",
    "    print(\"motion frame read\")\n",
    "print(\"Shape of Frame\", motion_frame_init.shape)\n",
    "print(\"First Row\", motion_frame_init[:,1])\n",
    "previous_motion_frame = cv2.cvtColor(motion_frame_init, cv2.COLOR_BGR2GRAY)\n",
    "inspect_given_a_frame(previous_motion_frame)\n",
    "print(\"Shape of Frame\", previous_motion_frame.shape)\n",
    "print(\"First Row\", previous_motion_frame[:,1].shape)"
   ],
   "metadata": {
    "collapsed": false
   }
  },
  {
   "cell_type": "markdown",
   "source": [
    "pilot the code a bit"
   ],
   "metadata": {
    "collapsed": false
   }
  },
  {
   "cell_type": "code",
   "execution_count": 107,
   "outputs": [
    {
     "name": "stdout",
     "output_type": "stream",
     "text": [
      "Number of labels 13 \n",
      "\n",
      "labels [[0 0 0 ... 0 0 0]\n",
      " [0 0 0 ... 0 0 0]\n",
      " [0 0 0 ... 0 0 0]\n",
      " ...\n",
      " [0 0 0 ... 0 0 0]\n",
      " [0 0 0 ... 0 0 0]\n",
      " [0 0 0 ... 0 0 0]] \n",
      "\n",
      "stats [[      0       0    2160    2160 3815500]\n",
      " [     96     162     630     796  125594]\n",
      " [   1805     516      47      47    2208]\n",
      " ...\n",
      " [    119    1010      51      60    3025]\n",
      " [    219    1522     736     447  160891]\n",
      " [    752    1932     100     109    9830]] \n",
      "\n",
      "centroids [[1079.01006002 1023.25491102]\n",
      " [ 403.40369763  484.15140851]\n",
      " [1827.98958333  538.98958333]\n",
      " [ 741.94100751  796.73690897]\n",
      " [2002.63468694  804.3675986 ]\n",
      " [1134.23039002  940.91104616]\n",
      " [1620.94445324 1665.99311175]\n",
      " [ 785.83313517 1141.33317867]\n",
      " [1631.99040848 1086.62247316]\n",
      " [1332.4371107  1034.91891597]\n",
      " [ 143.81586777 1039.3431405 ]\n",
      " [ 570.73607598 1733.31829002]\n",
      " [ 799.09084435 1985.85167854]] \n",
      "\n",
      "Progress: 0Number of labels 12 \n",
      "\n",
      "labels [[0 0 0 ... 0 0 0]\n",
      " [0 0 0 ... 0 0 0]\n",
      " [0 0 0 ... 0 0 0]\n",
      " ...\n",
      " [0 0 0 ... 0 0 0]\n",
      " [0 0 0 ... 0 0 0]\n",
      " [0 0 0 ... 0 0 0]] \n",
      "\n",
      "stats [[      0       0    2160    2160 3821156]\n",
      " [     96     162     630     796  124808]\n",
      " [    643     634     204     323   36208]\n",
      " ...\n",
      " [    862    1088     306     304   41483]\n",
      " [    219    1520     732     446  160137]\n",
      " [    744    1929     106     113   10786]] \n",
      "\n",
      "centroids [[1078.57393783 1022.81569556]\n",
      " [ 404.53519005  482.83061983]\n",
      " [ 741.94100751  796.73690897]\n",
      " [2002.63468694  804.3675986 ]\n",
      " [1135.7332989   942.37611915]\n",
      " [1619.37578655 1666.47310824]\n",
      " [ 635.1537685  1071.52755752]\n",
      " [1633.08904678 1086.5600188 ]\n",
      " [1332.05596482 1034.64848818]\n",
      " [1007.68984885 1243.8482752 ]\n",
      " [ 569.63980217 1732.40695155]\n",
      " [ 794.44835898 1984.5813091 ]] \n",
      "\n",
      "Progress: 1Number of labels 13 \n",
      "\n",
      "labels [[0 0 0 ... 0 0 0]\n",
      " [0 0 0 ... 0 0 0]\n",
      " [0 0 0 ... 0 0 0]\n",
      " ...\n",
      " [0 0 0 ... 0 0 0]\n",
      " [0 0 0 ... 0 0 0]\n",
      " [0 0 0 ... 0 0 0]] \n",
      "\n",
      "stats [[      0       0    2160    2160 3820145]\n",
      " [     96     162     630     797  123553]\n",
      " [    643     634     204     323   36208]\n",
      " ...\n",
      " [    124    1187      48      58    2773]\n",
      " [    220    1517     726     443  158179]\n",
      " [    738    1928     109     115   11303]] \n",
      "\n",
      "centroids [[1078.98492544 1022.77760164]\n",
      " [ 405.07837932  481.79709922]\n",
      " [ 741.94100751  796.73690897]\n",
      " [2002.63468694  804.3675986 ]\n",
      " [1137.2902794   942.67374937]\n",
      " [1618.1530884  1667.09798055]\n",
      " [ 633.31462845 1069.16743499]\n",
      " [1632.94502807 1087.60963815]\n",
      " [1331.60188328 1033.81900799]\n",
      " [1007.68984885 1243.8482752 ]\n",
      " [ 147.57627119 1215.42372881]\n",
      " [ 568.35322641 1731.03411957]\n",
      " [ 790.34504114 1983.86295674]] \n",
      "\n",
      "Progress: 2Number of labels 12 \n",
      "\n",
      "labels [[0 0 0 ... 0 0 0]\n",
      " [0 0 0 ... 0 0 0]\n",
      " [0 0 0 ... 0 0 0]\n",
      " ...\n",
      " [0 0 0 ... 0 0 0]\n",
      " [0 0 0 ... 0 0 0]\n",
      " [0 0 0 ... 0 0 0]] \n",
      "\n",
      "stats [[      0       0    2160    2160 3821389]\n",
      " [     97     158     633     801  124678]\n",
      " [    643     634     204     323   36208]\n",
      " ...\n",
      " [    862    1088     306     304   41483]\n",
      " [    220    1517     724     442  158498]\n",
      " [    734    1926     111     117   11554]] \n",
      "\n",
      "centroids [[1078.94420118 1023.27122756]\n",
      " [ 408.02656443  478.58193105]\n",
      " [ 741.94100751  796.73690897]\n",
      " [2002.63468694  804.3675986 ]\n",
      " [1137.37051008  941.44842617]\n",
      " [ 631.70816576 1067.74010078]\n",
      " [1617.81423795 1667.43523903]\n",
      " [1633.22712678 1088.33207695]\n",
      " [1331.84606166 1033.68351672]\n",
      " [1007.68984885 1243.8482752 ]\n",
      " [ 567.04296584 1730.86322856]\n",
      " [ 787.47697767 1982.7722001 ]] \n",
      "\n",
      "Progress: 3Number of labels 12 \n",
      "\n",
      "labels [[0 0 0 ... 0 0 0]\n",
      " [0 0 0 ... 0 0 0]\n",
      " [0 0 0 ... 0 0 0]\n",
      " ...\n",
      " [0 0 0 ... 0 0 0]\n",
      " [0 0 0 ... 0 0 0]\n",
      " [0 0 0 ... 0 0 0]] \n",
      "\n",
      "stats [[      0       0    2160    2160 3819454]\n",
      " [     97     160     633     799  126783]\n",
      " [    643     634     204     323   36208]\n",
      " ...\n",
      " [    862    1088     306     304   41483]\n",
      " [    220    1513     724     445  158367]\n",
      " [    725    1927     112     116   11796]] \n",
      "\n",
      "centroids [[1079.54071263 1023.66816042]\n",
      " [ 406.86184268  480.27114045]\n",
      " [ 741.94100751  796.73690897]\n",
      " [2002.63468694  804.3675986 ]\n",
      " [1138.33436917  941.28299151]\n",
      " [ 628.85077239 1064.80533592]\n",
      " [1616.99848029 1668.03067504]\n",
      " [1633.53661117 1088.53204521]\n",
      " [1331.96108908 1032.93664916]\n",
      " [1007.68984885 1243.8482752 ]\n",
      " [ 567.35620426 1729.49199644]\n",
      " [ 780.28179044 1982.36376738]] \n",
      "\n",
      "Progress: 4Number of labels 12 \n",
      "\n",
      "labels [[0 0 0 ... 0 0 0]\n",
      " [0 0 0 ... 0 0 0]\n",
      " [0 0 0 ... 0 0 0]\n",
      " ...\n",
      " [0 0 0 ... 0 0 0]\n",
      " [0 0 0 ... 0 0 0]\n",
      " [0 0 0 ... 0 0 0]] \n",
      "\n",
      "stats [[      0       0    2160    2160 3815957]\n",
      " [     97     160     632     799  128090]\n",
      " [    643     634     204     323   36208]\n",
      " ...\n",
      " [    862    1088     306     304   41483]\n",
      " [    221    1510     717     448  159681]\n",
      " [    725    1926     109     115   11371]] \n",
      "\n",
      "centroids [[1079.78095508 1023.63078384]\n",
      " [ 407.25774846  478.97471309]\n",
      " [ 741.94100751  796.73690897]\n",
      " [2002.63468694  804.3675986 ]\n",
      " [1139.02503603  940.62771258]\n",
      " [ 626.53337796 1062.1334481 ]\n",
      " [1616.81571907 1668.8411014 ]\n",
      " [1633.63649798 1088.86557926]\n",
      " [1333.07697083 1032.16987378]\n",
      " [1007.68984885 1243.8482752 ]\n",
      " [ 567.32839223 1728.3023716 ]\n",
      " [ 778.95532495 1981.34007563]] \n",
      "\n",
      "Progress: 5Number of labels 12 \n",
      "\n",
      "labels [[0 0 0 ... 0 0 0]\n",
      " [0 0 0 ... 0 0 0]\n",
      " [0 0 0 ... 0 0 0]\n",
      " ...\n",
      " [0 0 0 ... 0 0 0]\n",
      " [0 0 0 ... 0 0 0]\n",
      " [0 0 0 ... 0 0 0]] \n",
      "\n",
      "stats [[      0       0    2160    2160 3816115]\n",
      " [     97     159     638     801  130268]\n",
      " [    643     634     204     323   36208]\n",
      " ...\n",
      " [    862    1088     306     304   41483]\n",
      " [    221    1503     718     455  160299]\n",
      " [    725    1926      98     110    9560]] \n",
      "\n",
      "centroids [[1079.9827576  1024.38382858]\n",
      " [ 407.62568705  478.71891792]\n",
      " [ 741.94100751  796.73690897]\n",
      " [2002.63468694  804.3675986 ]\n",
      " [1138.91614868  939.75840777]\n",
      " [ 623.98287416 1061.4009518 ]\n",
      " [1616.92898837 1668.83290631]\n",
      " [1634.41769759 1088.7265853 ]\n",
      " [1333.16517299 1031.91142143]\n",
      " [1007.68984885 1243.8482752 ]\n",
      " [ 568.72875689 1727.89379846]\n",
      " [ 772.29675732 1977.75889121]] \n",
      "\n",
      "Progress: 6Number of labels 12 \n",
      "\n",
      "labels [[0 0 0 ... 0 0 0]\n",
      " [0 0 0 ... 0 0 0]\n",
      " [0 0 0 ... 0 0 0]\n",
      " ...\n",
      " [0 0 0 ... 0 0 0]\n",
      " [0 0 0 ... 0 0 0]\n",
      " [0 0 0 ... 0 0 0]] \n",
      "\n",
      "stats [[      0       0    2160    2160 3815264]\n",
      " [     97     158     646     837  132933]\n",
      " [    643     634     204     323   36208]\n",
      " ...\n",
      " [    862    1088     306     304   41483]\n",
      " [    221    1494     715     465  160423]\n",
      " [    725    1926      82     101    7178]] \n",
      "\n",
      "centroids [[1080.25382254 1025.01876698]\n",
      " [ 404.50416375  485.56270452]\n",
      " [ 741.94100751  796.73690897]\n",
      " [2002.63468694  804.3675986 ]\n",
      " [1140.23500344  939.54850338]\n",
      " [ 621.20376375 1058.88254175]\n",
      " [1617.24442739 1670.04109065]\n",
      " [1635.50148892 1087.99864895]\n",
      " [1331.49484424 1032.86616737]\n",
      " [1007.68984885 1243.8482752 ]\n",
      " [ 568.73262562 1726.66845776]\n",
      " [ 765.59835609 1974.55516857]] \n",
      "\n",
      "Progress: 7Number of labels 11 \n",
      "\n",
      "labels [[0 0 0 ... 0 0 0]\n",
      " [0 0 0 ... 0 0 0]\n",
      " [0 0 0 ... 0 0 0]\n",
      " ...\n",
      " [0 0 0 ... 0 0 0]\n",
      " [0 0 0 ... 0 0 0]\n",
      " [0 0 0 ... 0 0 0]] \n",
      "\n",
      "stats [[      0       0    2160    2160 3822496]\n",
      " [     95     154     655     843  132420]\n",
      " [    643     634     204     323   36208]\n",
      " ...\n",
      " [   1280     985     104      97    9198]\n",
      " [    862    1088     306     304   41483]\n",
      " [    222    1489     712     471  160702]] \n",
      "\n",
      "centroids [[1079.34989991 1026.66980763]\n",
      " [ 404.37570609  486.12751095]\n",
      " [ 741.94100751  796.73690897]\n",
      " [2002.63468694  804.3675986 ]\n",
      " [1141.9531627   939.56418371]\n",
      " [ 618.75825429 1057.49296031]\n",
      " [1617.57847346 1670.1004454 ]\n",
      " [1636.48921434 1087.7169176 ]\n",
      " [1331.37247228 1032.73037617]\n",
      " [1007.68984885 1243.8482752 ]\n",
      " [ 570.5364339  1726.45143184]] \n",
      "\n",
      "Progress: 8Number of labels 11 \n",
      "\n",
      "labels [[0 0 0 ... 0 0 0]\n",
      " [0 0 0 ... 0 0 0]\n",
      " [0 0 0 ... 0 0 0]\n",
      " ...\n",
      " [0 0 0 ... 0 0 0]\n",
      " [0 0 0 ... 0 0 0]\n",
      " [0 0 0 ... 0 0 0]] \n",
      "\n",
      "stats [[      0       0    2160    2160 3818731]\n",
      " [     95     151     662     859  133352]\n",
      " [    643     634     204     323   36208]\n",
      " ...\n",
      " [   1280     982     106      98    9534]\n",
      " [    862    1088     306     304   41483]\n",
      " [    223    1486     712     474  162104]] \n",
      "\n",
      "centroids [[1079.40003237 1026.36607894]\n",
      " [ 405.6592777   487.45099436]\n",
      " [ 741.94100751  796.73690897]\n",
      " [2002.63468694  804.3675986 ]\n",
      " [1142.96597279  938.87635736]\n",
      " [ 617.19983772 1056.19485337]\n",
      " [1617.33754781 1670.99474301]\n",
      " [1637.83409301 1087.60263715]\n",
      " [1332.55989092 1029.94787078]\n",
      " [1007.68984885 1243.8482752 ]\n",
      " [ 572.81419336 1725.95852662]] \n",
      "\n",
      "Progress: 9Number of labels 11 \n",
      "\n",
      "labels [[0 0 0 ... 0 0 0]\n",
      " [0 0 0 ... 0 0 0]\n",
      " [0 0 0 ... 0 0 0]\n",
      " ...\n",
      " [0 0 0 ... 0 0 0]\n",
      " [0 0 0 ... 0 0 0]\n",
      " [0 0 0 ... 0 0 0]] \n",
      "\n",
      "stats [[      0       0    2160    2160 3817635]\n",
      " [     90     148     677     852  133221]\n",
      " [    643     634     204     323   36208]\n",
      " ...\n",
      " [   1280     980     105     100    9573]\n",
      " [    862    1088     306     304   41483]\n",
      " [    223    1482     710     479  162769]] \n",
      "\n",
      "centroids [[1079.05135876 1026.59289089]\n",
      " [ 409.35274469  484.11131879]\n",
      " [ 741.94100751  796.73690897]\n",
      " [2002.63468694  804.3675986 ]\n",
      " [1145.31769146  939.23222658]\n",
      " [ 615.00900826 1054.20181833]\n",
      " [1619.18510304 1669.59152007]\n",
      " [1639.57818941 1087.51980834]\n",
      " [1331.95842474 1029.49274   ]\n",
      " [1007.68984885 1243.8482752 ]\n",
      " [ 573.43016176 1724.88113216]] \n",
      "\n",
      "Progress: 10Number of labels 12 \n",
      "\n",
      "labels [[0 0 0 ... 0 0 0]\n",
      " [0 0 0 ... 0 0 0]\n",
      " [0 0 0 ... 0 0 0]\n",
      " ...\n",
      " [0 0 0 ... 0 0 0]\n",
      " [0 0 0 ... 0 0 0]\n",
      " [0 0 0 ... 0 0 0]] \n",
      "\n",
      "stats [[      0       0    2160    2160 3811180]\n",
      " [     85     108     687     892  135582]\n",
      " [   1636     334      49      49    2393]\n",
      " ...\n",
      " [   1280     980     104      99    9362]\n",
      " [    862    1088     306     304   41483]\n",
      " [    223    1480     710     479  164107]] \n",
      "\n",
      "centroids [[1079.01654632 1027.08523449]\n",
      " [ 414.16797215  478.75502648]\n",
      " [1660.          357.92478061]\n",
      " [ 741.94100751  796.73690897]\n",
      " [2002.63468694  804.3675986 ]\n",
      " [1145.7418848   938.07323803]\n",
      " [ 613.91600764 1053.18978286]\n",
      " [1617.590625   1671.18366027]\n",
      " [1640.24969328 1088.06022297]\n",
      " [1331.16129032 1029.50202948]\n",
      " [1007.68984885 1243.8482752 ]\n",
      " [ 575.32646383 1723.66216554]] \n",
      "\n",
      "Progress: 11Number of labels 12 \n",
      "\n",
      "labels [[0 0 0 ... 0 0 0]\n",
      " [0 0 0 ... 0 0 0]\n",
      " [0 0 0 ... 0 0 0]\n",
      " ...\n",
      " [0 0 0 ... 0 0 0]\n",
      " [0 0 0 ... 0 0 0]\n",
      " [0 0 0 ... 0 0 0]] \n",
      "\n",
      "stats [[      0       0    2160    2160 3812517]\n",
      " [     82     105     696     895  136382]\n",
      " [   1644     339      48      50    2395]\n",
      " ...\n",
      " [   1281     978     106     100    9611]\n",
      " [    862    1088     306     304   41483]\n",
      " [    223    1478     715     481  165482]] \n",
      "\n",
      "centroids [[1079.51279089 1027.61361405]\n",
      " [ 420.36405097  474.56868208]\n",
      " [1667.45135699  363.54864301]\n",
      " [ 741.94100751  796.73690897]\n",
      " [2002.63468694  804.3675986 ]\n",
      " [1146.57927509  937.6339701 ]\n",
      " [ 612.13923193 1051.54991445]\n",
      " [1615.75489133 1672.03689391]\n",
      " [1640.64809736 1088.53795968]\n",
      " [1332.73072521 1027.4848611 ]\n",
      " [1007.68984885 1243.8482752 ]\n",
      " [ 577.62537315 1722.81649364]] \n",
      "\n",
      "Progress: 12Number of labels 11 \n",
      "\n",
      "labels [[0 0 0 ... 0 0 0]\n",
      " [0 0 0 ... 0 0 0]\n",
      " [0 0 0 ... 0 0 0]\n",
      " ...\n",
      " [0 0 0 ... 0 0 0]\n",
      " [0 0 0 ... 0 0 0]\n",
      " [0 0 0 ... 0 0 0]] \n",
      "\n",
      "stats [[      0       0    2160    2160 3814524]\n",
      " [     78     106     708     888  136245]\n",
      " [    643     634     204     323   36208]\n",
      " ...\n",
      " [   1281     976     107     101    9749]\n",
      " [    862    1088     306     304   41483]\n",
      " [    223    1475     720     483  167168]] \n",
      "\n",
      "centroids [[1079.80764284 1027.58811008]\n",
      " [ 425.89874124  470.99372454]\n",
      " [ 741.94100751  796.73690897]\n",
      " [2000.61466378  815.81804483]\n",
      " [1146.1880315   936.32661417]\n",
      " [ 609.97187032 1049.04079826]\n",
      " [1613.45776052 1672.92740109]\n",
      " [1642.00668304 1089.01590195]\n",
      " [1333.1693507  1026.05662119]\n",
      " [1007.68984885 1243.8482752 ]\n",
      " [ 579.18830159 1722.04988395]] \n",
      "\n",
      "Progress: 13Number of labels 12 \n",
      "\n",
      "labels [[0 0 0 ... 0 0 0]\n",
      " [0 0 0 ... 0 0 0]\n",
      " [0 0 0 ... 0 0 0]\n",
      " ...\n",
      " [0 0 0 ... 0 0 0]\n",
      " [0 0 0 ... 0 0 0]\n",
      " [0 0 0 ... 0 0 0]] \n",
      "\n",
      "stats [[      0       0    2160    2160 3808229]\n",
      " [    354     108     442     342   79088]\n",
      " [     72     452     310     554   59190]\n",
      " ...\n",
      " [   1504    1039     128     208   19264]\n",
      " [    862    1088     306     304   41483]\n",
      " [    223    1472     726     487  168674]] \n",
      "\n",
      "centroids [[1079.70661586 1027.29157753]\n",
      " [ 591.10930862  286.52857576]\n",
      " [ 205.92274033  728.1061159 ]\n",
      " [ 741.94100751  796.73690897]\n",
      " [1639.80205991 1616.20123254]\n",
      " [1145.61764706  936.8126435 ]\n",
      " [ 608.71032462 1047.51095139]\n",
      " [1723.25073968 1039.11270106]\n",
      " [1332.48533007 1025.76640179]\n",
      " [1564.363424   1138.98318106]\n",
      " [1007.68984885 1243.8482752 ]\n",
      " [ 580.42518705 1721.63342898]] \n",
      "\n",
      "Progress: 14Number of labels 12 \n",
      "\n",
      "labels [[0 0 0 ... 0 0 0]\n",
      " [0 0 0 ... 0 0 0]\n",
      " [0 0 0 ... 0 0 0]\n",
      " ...\n",
      " [0 0 0 ... 0 0 0]\n",
      " [0 0 0 ... 0 0 0]\n",
      " [0 0 0 ... 0 0 0]] \n",
      "\n",
      "stats [[      0       0    2160    2160 3806237]\n",
      " [    354     126     452     315   78276]\n",
      " [     71     452     311     580   61619]\n",
      " ...\n",
      " [   1504    1039     128     208   19263]\n",
      " [    862    1088     306     304   41483]\n",
      " [    222    1469     732     490  168955]] \n",
      "\n",
      "centroids [[1080.23871346 1027.41021119]\n",
      " [ 598.91050897  285.70680668]\n",
      " [ 203.45602817  737.89634691]\n",
      " [ 741.94100751  796.73690897]\n",
      " [1640.20410408 1615.51198346]\n",
      " [1144.85401868  938.41348072]\n",
      " [ 607.11526376 1043.85891222]\n",
      " [1725.15869392 1040.40568091]\n",
      " [1332.43102391 1024.90241161]\n",
      " [1564.36063957 1138.98831958]\n",
      " [1007.68984885 1243.8482752 ]\n",
      " [ 582.14094285 1721.03995739]] \n",
      "\n",
      "Progress: 15Number of labels 13 \n",
      "\n",
      "labels [[0 0 0 ... 0 0 0]\n",
      " [0 0 0 ... 0 0 0]\n",
      " [0 0 0 ... 0 0 0]\n",
      " ...\n",
      " [0 0 0 ... 0 0 0]\n",
      " [0 0 0 ... 0 0 0]\n",
      " [0 0 0 ... 0 0 0]] \n",
      "\n",
      "stats [[      0       0    2160    2160 3801561]\n",
      " [    353     119     462     318   79591]\n",
      " [     71     452     311     587   62851]\n",
      " ...\n",
      " [    862    1088     306     304   41483]\n",
      " [    222    1467     457     492  114737]\n",
      " [    657    1601     297     269   54114]] \n",
      "\n",
      "centroids [[1080.3765832  1027.87352196]\n",
      " [ 606.34463696  281.26546971]\n",
      " [ 201.34114016  745.39609553]\n",
      " [ 741.94100751  796.73690897]\n",
      " [1640.93948887 1615.29652541]\n",
      " [1143.63835627  939.44185202]\n",
      " [ 605.31708617 1041.03633123]\n",
      " [1334.92440695 1013.85583027]\n",
      " [1726.59516315 1043.12134089]\n",
      " [1564.36063957 1138.98831958]\n",
      " [1007.68984885 1243.8482752 ]\n",
      " [ 483.74060678 1722.17716168]\n",
      " [ 790.425158   1715.93328898]] \n",
      "\n",
      "Progress: 16Number of labels 14 \n",
      "\n",
      "labels [[0 0 0 ... 0 0 0]\n",
      " [0 0 0 ... 0 0 0]\n",
      " [0 0 0 ... 0 0 0]\n",
      " ...\n",
      " [0 0 0 ... 0 0 0]\n",
      " [0 0 0 ... 0 0 0]\n",
      " [0 0 0 ... 0 0 0]] \n",
      "\n",
      "stats [[      0       0    2160    2160 3795980]\n",
      " [    353     103     472     334   85297]\n",
      " [     71     452     311     590   62825]\n",
      " ...\n",
      " [    862    1088     306     304   41483]\n",
      " [    222    1464     456     495  115194]\n",
      " [    657    1601     302     269   54333]] \n",
      "\n",
      "centroids [[1081.33014716 1029.09372178]\n",
      " [ 615.02843007  271.56445127]\n",
      " [ 200.87455631  748.02742539]\n",
      " [ 741.94100751  796.73690897]\n",
      " [1999.72324079  824.02012397]\n",
      " [1141.19712875  939.18820796]\n",
      " [ 604.0194819  1037.84512789]\n",
      " [1334.55802304 1013.33553181]\n",
      " [1614.83917996 1673.92316594]\n",
      " [1726.69823718 1044.78568376]\n",
      " [1564.36063957 1138.98831958]\n",
      " [1007.68984885 1243.8482752 ]\n",
      " [ 483.55031512 1721.70837023]\n",
      " [ 791.38974472 1716.16373107]] \n",
      "\n",
      "Progress: 17Number of labels 14 \n",
      "\n",
      "labels [[0 0 0 ... 0 0 0]\n",
      " [0 0 0 ... 0 0 0]\n",
      " [0 0 0 ... 0 0 0]\n",
      " ...\n",
      " [0 0 0 ... 0 0 0]\n",
      " [0 0 0 ... 0 0 0]\n",
      " [0 0 0 ... 0 0 0]] \n",
      "\n",
      "stats [[      0       0    2160    2160 3796026]\n",
      " [    352     105     483     332   87108]\n",
      " [     72     452     310     599   62611]\n",
      " ...\n",
      " [    862    1088     306     304   41483]\n",
      " [    222    1462     455     498  115244]\n",
      " [    657    1601     302     269   54003]] \n",
      "\n",
      "centroids [[1082.14111363 1029.24789978]\n",
      " [ 620.55051201  269.40283326]\n",
      " [ 199.89546565  755.89461916]\n",
      " [ 741.94100751  796.73690897]\n",
      " [1999.6312635   823.1013177 ]\n",
      " [1140.32030861  939.84673138]\n",
      " [ 602.33832952 1034.28116534]\n",
      " [1334.96524691 1012.62224198]\n",
      " [1610.79524893 1681.40445269]\n",
      " [1727.90003658 1046.68730731]\n",
      " [1564.36063957 1138.98831958]\n",
      " [1007.68984885 1243.8482752 ]\n",
      " [ 483.49782201 1722.12517788]\n",
      " [ 790.76543896 1716.74214395]] \n",
      "\n",
      "Progress: 18Number of labels 15 \n",
      "\n",
      "labels [[0 0 0 ... 0 0 0]\n",
      " [0 0 0 ... 0 0 0]\n",
      " [0 0 0 ... 0 0 0]\n",
      " ...\n",
      " [0 0 0 ... 0 0 0]\n",
      " [0 0 0 ... 0 0 0]\n",
      " [0 0 0 ... 0 0 0]] \n",
      "\n",
      "stats [[      0       0    2160    2160 3791977]\n",
      " [    352     105     492     331   88900]\n",
      " [     65     452     317     612   63310]\n",
      " ...\n",
      " [     83    1176      54      61    3209]\n",
      " [    222    1460     454     501  115633]\n",
      " [    657    1601     303     269   53636]] \n",
      "\n",
      "centroids [[1083.8749225  1029.61500479]\n",
      " [ 625.91129359  266.52663667]\n",
      " [ 195.92839994  760.94642237]\n",
      " [ 741.94100751  796.73690897]\n",
      " [1999.81596261  819.55102319]\n",
      " [1140.16875179  940.59797367]\n",
      " [ 601.99077689 1032.77237889]\n",
      " [1334.43891179 1012.23619126]\n",
      " [1609.80161974 1683.66586513]\n",
      " [1729.85966731 1048.8664041 ]\n",
      " [1564.36063957 1138.98831958]\n",
      " [1007.68984885 1243.8482752 ]\n",
      " [ 109.4920536  1206.47958866]\n",
      " [ 483.53932701 1721.68580768]\n",
      " [ 789.99453725 1717.1981505 ]] \n",
      "\n",
      "Progress: 19Number of labels 15 \n",
      "\n",
      "labels [[0 0 0 ... 0 0 0]\n",
      " [0 0 0 ... 0 0 0]\n",
      " [0 0 0 ... 0 0 0]\n",
      " ...\n",
      " [0 0 0 ... 0 0 0]\n",
      " [0 0 0 ... 0 0 0]\n",
      " [0 0 0 ... 0 0 0]] \n",
      "\n",
      "stats [[      0       0    2160    2160 3788483]\n",
      " [    352     101     506     335   90475]\n",
      " [     64     452     318     624   64268]\n",
      " ...\n",
      " [     81    1174      58      63    3539]\n",
      " [    222    1458     454     503  115331]\n",
      " [    657    1601     305     269   53579]] \n",
      "\n",
      "centroids [[1084.10068859 1030.05904712]\n",
      " [ 632.67839735  264.10977618]\n",
      " [ 193.06449555  767.53491629]\n",
      " [ 741.94100751  796.73690897]\n",
      " [1999.56521348  819.9720771 ]\n",
      " [1141.72672348  941.45884848]\n",
      " [ 600.40231629 1029.180626  ]\n",
      " [1611.99716097 1681.50501466]\n",
      " [1332.16852069 1022.77166276]\n",
      " [1732.44262801 1051.05043183]\n",
      " [1564.36063957 1138.98831958]\n",
      " [1007.68984885 1243.8482752 ]\n",
      " [ 109.50777056 1205.51963832]\n",
      " [ 483.47511944 1721.08736593]\n",
      " [ 790.05953825 1717.75419474]] \n",
      "\n",
      "Progress: 20Number of labels 15 \n",
      "\n",
      "labels [[0 0 0 ... 0 0 0]\n",
      " [0 0 0 ... 0 0 0]\n",
      " [0 0 0 ... 0 0 0]\n",
      " ...\n",
      " [0 0 0 ... 0 0 0]\n",
      " [0 0 0 ... 0 0 0]\n",
      " [0 0 0 ... 0 0 0]] \n",
      "\n",
      "stats [[      0       0    2160    2160 3783371]\n",
      " [    352      98     512     338   91560]\n",
      " [     64     452     318     638   65315]\n",
      " ...\n",
      " [     79    1172      62      65    3982]\n",
      " [    222    1456     454     506  114796]\n",
      " [    657    1601     301     269   52928]] \n",
      "\n",
      "centroids [[1084.02920861 1030.73582527]\n",
      " [ 636.99261686  261.80742682]\n",
      " [ 190.78343413  773.92321825]\n",
      " [ 741.94100751  796.73690897]\n",
      " [1999.62874819  819.63678649]\n",
      " [1143.98709212  942.36246292]\n",
      " [ 599.48476476 1026.29018763]\n",
      " [1340.00162187 1012.50332098]\n",
      " [1614.33273588 1679.03857914]\n",
      " [1736.2455487  1053.40140809]\n",
      " [1564.36063957 1138.98831958]\n",
      " [1007.68984885 1243.8482752 ]\n",
      " [ 109.48618785 1203.98342541]\n",
      " [ 484.38996132 1720.3910415 ]\n",
      " [ 788.33082678 1718.83551239]] \n",
      "\n",
      "Progress: 21Number of labels 16 \n",
      "\n",
      "labels [[0 0 0 ... 0 0 0]\n",
      " [0 0 0 ... 0 0 0]\n",
      " [0 0 0 ... 0 0 0]\n",
      " ...\n",
      " [0 0 0 ... 0 0 0]\n",
      " [0 0 0 ... 0 0 0]\n",
      " [0 0 0 ... 0 0 0]] \n",
      "\n",
      "stats [[      0       0    2160    2160 3778009]\n",
      " [    352      95     522     340   92891]\n",
      " [    171     452     211     255   25369]\n",
      " ...\n",
      " [     79    1168      62      70    4255]\n",
      " [    222    1454     454     510  114608]\n",
      " [    657    1601     303     269   52554]] \n",
      "\n",
      "centroids [[1083.98366044 1031.11860321]\n",
      " [ 642.76835215  260.29594902]\n",
      " [ 273.68938468  575.66092475]\n",
      " [ 741.94100751  796.73690897]\n",
      " [ 134.01391761  908.54402784]\n",
      " [1999.52085822  821.6069896 ]\n",
      " [ 598.08464956 1022.50330084]\n",
      " [1146.18017454  946.34269949]\n",
      " [1339.69159088 1012.19748024]\n",
      " [1616.81098569 1677.3265774 ]\n",
      " [1738.71280651 1054.48804863]\n",
      " [1564.36063957 1138.98831958]\n",
      " [1007.68984885 1243.8482752 ]\n",
      " [ 109.493302   1202.546651  ]\n",
      " [ 485.50055843 1719.67239634]\n",
      " [ 787.98264642 1719.6727937 ]] \n",
      "\n",
      "Progress: 22Number of labels 16 \n",
      "\n",
      "labels [[0 0 0 ... 0 0 0]\n",
      " [0 0 0 ... 0 0 0]\n",
      " [0 0 0 ... 0 0 0]\n",
      " ...\n",
      " [0 0 0 ... 0 0 0]\n",
      " [0 0 0 ... 0 0 0]\n",
      " [0 0 0 ... 0 0 0]] \n",
      "\n",
      "stats [[      0       0    2160    2160 3774019]\n",
      " [    352      92     529     343   94148]\n",
      " [    172     452     210     253   25101]\n",
      " ...\n",
      " [     81    1172      57      63    3526]\n",
      " [    222    1453     454     513  114199]\n",
      " [    657    1601     304     269   52079]] \n",
      "\n",
      "centroids [[1083.90667403 1031.28257621]\n",
      " [ 647.09672006  258.0257467 ]\n",
      " [ 274.42982351  574.50818692]\n",
      " [ 741.94100751  796.73690897]\n",
      " [ 133.27255078  912.81064444]\n",
      " [1999.18084872  822.01771471]\n",
      " [ 597.94844738 1020.03147502]\n",
      " [1147.0915182   947.1859024 ]\n",
      " [1339.04406199 1011.511319  ]\n",
      " [1616.41518447 1678.00731931]\n",
      " [1744.07116693 1059.59686028]\n",
      " [1564.36063957 1138.98831958]\n",
      " [1007.68984885 1243.8482752 ]\n",
      " [ 109.12790698 1202.74532048]\n",
      " [ 486.84034011 1720.39932048]\n",
      " [ 787.41314157 1720.87156051]] \n",
      "\n",
      "Progress: 23Number of labels 16 \n",
      "\n",
      "labels [[0 0 0 ... 0 0 0]\n",
      " [0 0 0 ... 0 0 0]\n",
      " [0 0 0 ... 0 0 0]\n",
      " ...\n",
      " [0 0 0 ... 0 0 0]\n",
      " [0 0 0 ... 0 0 0]\n",
      " [0 0 0 ... 0 0 0]] \n",
      "\n",
      "stats [[      0       0    2160    2160 3772335]\n",
      " [    352      90     540     345   95879]\n",
      " [    173     452     209     252   24741]\n",
      " ...\n",
      " [     79    1172      62      65    3979]\n",
      " [    222    1453     454     514  111413]\n",
      " [    657    1601     310     269   52239]] \n",
      "\n",
      "centroids [[1083.06842181 1031.82222629]\n",
      " [ 653.4455303   255.73601101]\n",
      " [ 275.48627784  573.59589346]\n",
      " [ 741.94100751  796.73690897]\n",
      " [ 131.54116597  923.88793977]\n",
      " [1999.02096156  823.92730168]\n",
      " [ 595.54681248 1015.82115888]\n",
      " [1147.96032352  948.57031131]\n",
      " [1340.94926712 1009.54561274]\n",
      " [1615.17111664 1678.99424115]\n",
      " [1748.58579019 1062.45822482]\n",
      " [1564.36063957 1138.98831958]\n",
      " [1007.68984885 1243.8482752 ]\n",
      " [ 109.46418698 1203.9301332 ]\n",
      " [ 488.84590667 1719.14469586]\n",
      " [ 788.27485212 1721.17117479]] \n",
      "\n",
      "Progress: 24Number of labels 16 \n",
      "\n",
      "labels [[0 0 0 ... 0 0 0]\n",
      " [0 0 0 ... 0 0 0]\n",
      " [0 0 0 ... 0 0 0]\n",
      " ...\n",
      " [0 0 0 ... 0 0 0]\n",
      " [0 0 0 ... 0 0 0]\n",
      " [0 0 0 ... 0 0 0]] \n",
      "\n",
      "stats [[      0       0    2160    2160 3766064]\n",
      " [    352      88     551     348   98405]\n",
      " [    174     452     208     253   24595]\n",
      " ...\n",
      " [     79    1173      62      64    3911]\n",
      " [    222    1452     454     515  111313]\n",
      " [    657    1601     312     269   52461]] \n",
      "\n",
      "centroids [[1083.32086258 1032.46278582]\n",
      " [ 658.4633606   252.94223871]\n",
      " [ 276.14929864  573.5650742 ]\n",
      " [ 741.94100751  796.73690897]\n",
      " [ 131.48258442  928.65657103]\n",
      " [1998.99675516  826.61158871]\n",
      " [ 596.02391075 1014.00702222]\n",
      " [1148.75942292  949.48893421]\n",
      " [1346.31856841  995.96843427]\n",
      " [1613.68852708 1680.71370266]\n",
      " [1753.39285905 1064.66298961]\n",
      " [1564.36063957 1138.98831958]\n",
      " [1007.68984885 1243.8482752 ]\n",
      " [ 109.37049348 1204.53106622]\n",
      " [ 488.48322298 1717.87769623]\n",
      " [ 789.02914546 1721.28594575]] \n",
      "\n",
      "Progress: 25Number of labels 16 \n",
      "\n",
      "labels [[0 0 0 ... 0 0 0]\n",
      " [0 0 0 ... 0 0 0]\n",
      " [0 0 0 ... 0 0 0]\n",
      " ...\n",
      " [0 0 0 ... 0 0 0]\n",
      " [0 0 0 ... 0 0 0]\n",
      " [0 0 0 ... 0 0 0]] \n",
      "\n",
      "stats [[      0       0    2160    2160 3761184]\n",
      " [    352      75     556     361  103374]\n",
      " [    176     452     206     251   24356]\n",
      " ...\n",
      " [     84    1176      52      58    2967]\n",
      " [    222    1451     454     517  112884]\n",
      " [    657    1601     315     269   52710]] \n",
      "\n",
      "centroids [[1084.05772517 1033.50448981]\n",
      " [ 664.56798615  246.686159  ]\n",
      " [ 277.20980457  572.43443094]\n",
      " [ 741.94100751  796.73690897]\n",
      " [1998.75183461  826.73745125]\n",
      " [ 129.54917511  936.83551182]\n",
      " [ 596.16124214 1012.1808911 ]\n",
      " [1149.79611286  949.72895092]\n",
      " [1346.26507138  996.13398069]\n",
      " [1612.56331062 1682.32551272]\n",
      " [1755.13875375 1066.63947831]\n",
      " [1564.36063957 1138.98831958]\n",
      " [1007.68984885 1243.8482752 ]\n",
      " [ 109.5082575  1204.80114594]\n",
      " [ 487.12448177 1718.76448389]\n",
      " [ 790.01952191 1721.53682413]] \n",
      "\n",
      "Progress: 26"
     ]
    },
    {
     "ename": "KeyboardInterrupt",
     "evalue": "",
     "output_type": "error",
     "traceback": [
      "\u001B[0;31m---------------------------------------------------------------------------\u001B[0m",
      "\u001B[0;31mKeyboardInterrupt\u001B[0m                         Traceback (most recent call last)",
      "Cell \u001B[0;32mIn[107], line 15\u001B[0m\n\u001B[1;32m     13\u001B[0m eroded_frame \u001B[38;5;241m=\u001B[39m cv2\u001B[38;5;241m.\u001B[39merode(motion_mask, erode_kernel, iterations\u001B[38;5;241m=\u001B[39m\u001B[38;5;241m1\u001B[39m)\n\u001B[1;32m     14\u001B[0m dilated_frame \u001B[38;5;241m=\u001B[39m cv2\u001B[38;5;241m.\u001B[39mdilate(eroded_frame, dilate_kernel, iterations\u001B[38;5;241m=\u001B[39m\u001B[38;5;241m1\u001B[39m)\n\u001B[0;32m---> 15\u001B[0m num_labels, labels, stats, centroids \u001B[38;5;241m=\u001B[39m cv2\u001B[38;5;241m.\u001B[39mconnectedComponentsWithStats(np\u001B[38;5;241m.\u001B[39muint8(dilated_frame), connectivity\u001B[38;5;241m=\u001B[39m\u001B[38;5;241m8\u001B[39m)\n\u001B[1;32m     16\u001B[0m \u001B[38;5;28mprint\u001B[39m(\u001B[38;5;124m'\u001B[39m\u001B[38;5;124mNumber of labels\u001B[39m\u001B[38;5;124m'\u001B[39m, num_labels, \u001B[38;5;124m'\u001B[39m\u001B[38;5;130;01m\\n\u001B[39;00m\u001B[38;5;124m'\u001B[39m)\n\u001B[1;32m     17\u001B[0m \u001B[38;5;28mprint\u001B[39m(\u001B[38;5;124m'\u001B[39m\u001B[38;5;124mlabels\u001B[39m\u001B[38;5;124m'\u001B[39m, labels, \u001B[38;5;124m'\u001B[39m\u001B[38;5;130;01m\\n\u001B[39;00m\u001B[38;5;124m'\u001B[39m)\n",
      "\u001B[0;31mKeyboardInterrupt\u001B[0m: "
     ]
    }
   ],
   "source": [
    "for j in range(total_it_number):\n",
    "    ret, temporal_motion_frame = motion_mask_cap.read()\n",
    "    if not ret:\n",
    "        break\n",
    "    current_motion_frame = cv2.cvtColor(temporal_motion_frame, cv2.COLOR_BGR2GRAY)\n",
    "    # Calculate Optical Flow\n",
    "    flow = cv2.calcOpticalFlowFarneback(previous_motion_frame, current_motion_frame, None, 0.5, 3, 15, 3, 5, 1.2, 0)\n",
    "    # Compute magnitude and angle of the flow\n",
    "    mag, ang = cv2.cartToPolar(flow[..., 0], flow[..., 1])\n",
    "    # Create motion mask\n",
    "    thresh = 1  # Set threshold for motion detection\n",
    "    motion_mask = cv2.threshold(mag, thresh, 255, cv2.THRESH_BINARY)[1]\n",
    "    eroded_frame = cv2.erode(motion_mask, erode_kernel, iterations=1)\n",
    "    dilated_frame = cv2.dilate(eroded_frame, dilate_kernel, iterations=1)\n",
    "    num_labels, labels, stats, centroids = cv2.connectedComponentsWithStats(np.uint8(dilated_frame), connectivity=8)\n",
    "    print('Number of labels', num_labels, '\\n')\n",
    "    print('labels', labels, '\\n')\n",
    "    print('stats', stats, '\\n')\n",
    "    print('centroids', centroids, '\\n')\n",
    "    min_area = 5000\n",
    "    for i in range(1, num_labels):\n",
    "        x, y, w, h, area = stats[i]\n",
    "        if area > min_area:\n",
    "            cv2.rectangle(frame2, (x, y), (x + w, y + h), (0, 255, 0), 2)\n",
    "    for i in range(1, num_labels):\n",
    "        x, y, w, h, area = stats[i]\n",
    "        if area > min_area:\n",
    "            cv2.rectangle(dilated_frame, (x, y), (x + w, y + h), (255, 255, 255), 2)\n",
    "    temp_frame = cv2.normalize(dilated_frame, None, alpha=0, beta=255, norm_type=cv2.NORM_MINMAX, dtype=cv2.CV_8U)\n",
    "    rgb_frame = cv2.cvtColor(temp_frame, cv2.COLOR_GRAY2RGB)\n",
    "    cv2.imshow('Segmented Frame', rgb_frame)\n",
    "    out.write(rgb_frame)\n",
    "    print(f'\\rProgress: {j}', end='')\n",
    "    prvs = next\n",
    "    if cv2.waitKey(1) & 0xFF == ord('q'):\n",
    "        break"
   ],
   "metadata": {
    "collapsed": false
   }
  },
  {
   "cell_type": "code",
   "execution_count": 108,
   "outputs": [],
   "source": [
    "tye = num_labels, labels, stats, centroids"
   ],
   "metadata": {
    "collapsed": false
   }
  },
  {
   "cell_type": "code",
   "execution_count": 120,
   "outputs": [
    {
     "name": "stdout",
     "output_type": "stream",
     "text": [
      "16\n"
     ]
    }
   ],
   "source": [
    "print(tye[0])"
   ],
   "metadata": {
    "collapsed": false
   }
  },
  {
   "cell_type": "code",
   "execution_count": 117,
   "outputs": [
    {
     "name": "stdout",
     "output_type": "stream",
     "text": [
      "[[0 0 0 ... 0 0 0]\n",
      " [0 0 0 ... 0 0 0]\n",
      " [0 0 0 ... 0 0 0]\n",
      " ...\n",
      " [0 0 0 ... 0 0 0]\n",
      " [0 0 0 ... 0 0 0]\n",
      " [0 0 0 ... 0 0 0]]\n"
     ]
    }
   ],
   "source": [
    "print(tye[1])"
   ],
   "metadata": {
    "collapsed": false
   }
  },
  {
   "cell_type": "code",
   "execution_count": 119,
   "outputs": [
    {
     "name": "stdout",
     "output_type": "stream",
     "text": [
      "[[      0       0    2160    2160 3761184]\n",
      " [    352      75     556     361  103374]\n",
      " [    176     452     206     251   24356]\n",
      " ...\n",
      " [     84    1176      52      58    2967]\n",
      " [    222    1451     454     517  112884]\n",
      " [    657    1601     315     269   52710]]\n"
     ]
    }
   ],
   "source": [
    "print(tye[2])"
   ],
   "metadata": {
    "collapsed": false
   }
  },
  {
   "cell_type": "code",
   "execution_count": 121,
   "outputs": [
    {
     "name": "stdout",
     "output_type": "stream",
     "text": [
      "[[1084.05772517 1033.50448981]\n",
      " [ 664.56798615  246.686159  ]\n",
      " [ 277.20980457  572.43443094]\n",
      " [ 741.94100751  796.73690897]\n",
      " [1998.75183461  826.73745125]\n",
      " [ 129.54917511  936.83551182]\n",
      " [ 596.16124214 1012.1808911 ]\n",
      " [1149.79611286  949.72895092]\n",
      " [1346.26507138  996.13398069]\n",
      " [1612.56331062 1682.32551272]\n",
      " [1755.13875375 1066.63947831]\n",
      " [1564.36063957 1138.98831958]\n",
      " [1007.68984885 1243.8482752 ]\n",
      " [ 109.5082575  1204.80114594]\n",
      " [ 487.12448177 1718.76448389]\n",
      " [ 790.01952191 1721.53682413]]\n"
     ]
    }
   ],
   "source": [
    "print(tye[3])"
   ],
   "metadata": {
    "collapsed": false
   }
  },
  {
   "cell_type": "markdown",
   "source": [
    "# Construction of a Worm Object\n",
    "## the idea is that, to make a worm object, this object should be able to take each frame as input,\n",
    "## find the motion mask to correspond to the worm, and append to the worm object"
   ],
   "metadata": {
    "collapsed": false
   }
  },
  {
   "cell_type": "code",
   "execution_count": 122,
   "outputs": [
    {
     "name": "stdout",
     "output_type": "stream",
     "text": [
      "Make: Toyota, Model: Corolla, Year: 2020, Color: Blue, Mileage: 5000\n",
      "The car has been repainted to Red.\n",
      "The car does not need service yet.\n"
     ]
    }
   ],
   "source": [
    "class Worm:\n",
    "    def __init__(self, original_cap, label_history, stats_history, centroid_history, another_variable_in_case=None):\n",
    "        self.original_cap = original_cap\n",
    "        self.label_history = label_history\n",
    "        self.stats_history = stats_history\n",
    "        self.centroid_history = centroid_history\n",
    "        self.another_variable_in_case = another_variable_in_case\n",
    "\n",
    "    def display_info(self):\n",
    "        info = f\"video_cap: {self.original_cap}, label_history: {self.label_history}, stats_history: {self.stats_history}, centroid_history: {self.centroid_history}\"\n",
    "        print(info)\n",
    "\n",
    "    def update_another_variable(self, another_variable_in_case):\n",
    "        \"\"\"Update the car's mileage.\"\"\"\n",
    "        if another_variable_in_case >= self.another_variable_in_case:\n",
    "            self.another_variable_in_case = another_variable_in_case\n",
    "        else:\n",
    "            print(\"Error: another_variable_in_case cannot be reduced.\")"
   ],
   "metadata": {
    "collapsed": false
   }
  },
  {
   "cell_type": "code",
   "execution_count": null,
   "outputs": [],
   "source": [],
   "metadata": {
    "collapsed": false
   }
  }
 ],
 "metadata": {
  "kernelspec": {
   "display_name": "Python 3",
   "language": "python",
   "name": "python3"
  },
  "language_info": {
   "codemirror_mode": {
    "name": "ipython",
    "version": 2
   },
   "file_extension": ".py",
   "mimetype": "text/x-python",
   "name": "python",
   "nbconvert_exporter": "python",
   "pygments_lexer": "ipython2",
   "version": "2.7.6"
  }
 },
 "nbformat": 4,
 "nbformat_minor": 0
}
